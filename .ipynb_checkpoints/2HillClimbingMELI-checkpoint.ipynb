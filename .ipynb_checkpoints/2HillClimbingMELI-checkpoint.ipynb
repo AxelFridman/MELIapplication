{
 "cells": [
  {
   "cell_type": "code",
   "execution_count": 1,
   "id": "086e04ed",
   "metadata": {},
   "outputs": [],
   "source": [
    "import math\n",
    "import numpy as np\n",
    "import random\n",
    "import matplotlib.pyplot as plt"
   ]
  },
  {
   "cell_type": "markdown",
   "id": "31ed7125",
   "metadata": {},
   "source": [
    "This function generates a random set of restrictions on our program, a restriction exists only iff the intersection of boxes is non empty. So if there is a 1 in R[i,j] means they don't intersect, while a 0 represents they do therefore they are not compatible"
   ]
  },
  {
   "cell_type": "code",
   "execution_count": 2,
   "id": "b84caf7d",
   "metadata": {},
   "outputs": [],
   "source": [
    "def generateRandomRestrictions(numberOfLabels):\n",
    "    restrictions = np.random.randint(2, size=[numberOfLabels,numberOfLabels])\n",
    "    np.fill_diagonal(restrictions, 1)\n",
    "    W = np.maximum( restrictions, restrictions.transpose() )\n",
    "\n",
    "    return(W)"
   ]
  },
  {
   "cell_type": "markdown",
   "id": "f13447d8",
   "metadata": {},
   "source": [
    "As we want to preserve when possible the feasbility of our current solution we must check if there is a contradiction with the restrictions given by the matrix"
   ]
  },
  {
   "cell_type": "code",
   "execution_count": 3,
   "id": "841c4308",
   "metadata": {},
   "outputs": [],
   "source": [
    "def isSolutionFeasible(sol, restrictions):\n",
    "    for i in range(0, len(sol)):\n",
    "        for j in range(0, len(sol)):\n",
    "            if(sol[i]==1 and sol[j]==1 and restrictions[i,j]==0):\n",
    "                return False\n",
    "    return True"
   ]
  },
  {
   "cell_type": "markdown",
   "id": "44c84181",
   "metadata": {},
   "source": [
    "This function is such that all feasible solutions are chosen before any infeasible one, ant the optimal value of the function is the best solution. It is minimized when there the most 1's in the solution without any contradiction"
   ]
  },
  {
   "cell_type": "code",
   "execution_count": 4,
   "id": "b41dfe4f",
   "metadata": {},
   "outputs": [],
   "source": [
    "def evaluationFunctionMELI(solution, restrictions):\n",
    "    evaluation = len(solution)-sum(solution)+(1-isSolutionFeasible(solution, restrictions))*len(solution)**2 #It is minimized when solution has the most 1's\n",
    "    return(evaluation)"
   ]
  },
  {
   "cell_type": "code",
   "execution_count": 5,
   "id": "33a3bd3d",
   "metadata": {},
   "outputs": [],
   "source": [
    "def different(n):\n",
    "    if(n==1):\n",
    "        return(0)\n",
    "    return(1)"
   ]
  },
  {
   "cell_type": "code",
   "execution_count": 6,
   "id": "dacc1f58",
   "metadata": {},
   "outputs": [],
   "source": [
    "def neighborhoodOfSolutionMELI(sol):\n",
    "    neighbors = []\n",
    "    for i in range(0, len(sol)):\n",
    "        for j in range(i, len(sol)):\n",
    "            sol2 = (sol).copy()\n",
    "            sol2[i] = different(sol[i])\n",
    "            neighbors.append(sol2)\n",
    "            sol2 = (sol).copy()\n",
    "            sol2[i] = different(sol[i])\n",
    "            sol2[j] = different(sol[j])\n",
    "            neighbors.append(sol2)\n",
    "    return(neighbors)"
   ]
  },
  {
   "cell_type": "code",
   "execution_count": 7,
   "id": "525eae7b",
   "metadata": {},
   "outputs": [
    {
     "data": {
      "text/plain": [
       "10100"
      ]
     },
     "execution_count": 7,
     "metadata": {},
     "output_type": "execute_result"
    }
   ],
   "source": [
    "len(neighborhoodOfSolutionMELI(np.zeros(100)))"
   ]
  },
  {
   "cell_type": "code",
   "execution_count": 8,
   "id": "57498c8d",
   "metadata": {},
   "outputs": [],
   "source": [
    "def hillClimb(currentSolution, res, evalFunction, neighborhoodFunction): #Minimize\n",
    "    isLocalOptima = False\n",
    "        \n",
    "    while(not isLocalOptima):\n",
    "        evalCurrentSolution = evalFunction(currentSolution,res)\n",
    "        neighborhoodSolutions = neighborhoodFunction(currentSolution)\n",
    "        \n",
    "        bestAlternative = 0\n",
    "        bestAlternativeEvaluation = evalFunction(neighborhoodSolutions[0], res)\n",
    "        for i in range(1, len(neighborhoodSolutions)):\n",
    "            \n",
    "            evalAlt = evalFunction(neighborhoodSolutions[i], res)\n",
    "            if(evalAlt < bestAlternativeEvaluation):\n",
    "                bestAlternative = i\n",
    "                bestAlternativeEvaluation = evalAlt\n",
    "        \n",
    "        if(bestAlternativeEvaluation < evalCurrentSolution):\n",
    "            currentSolution = neighborhoodSolutions[bestAlternative]\n",
    "        else:\n",
    "            isLocalOptima = True\n",
    "    return currentSolution\n",
    "        "
   ]
  },
  {
   "cell_type": "code",
   "execution_count": 9,
   "id": "25e92ef3",
   "metadata": {},
   "outputs": [
    {
     "data": {
      "text/plain": [
       "array([[1, 1, 1, ..., 0, 1, 1],\n",
       "       [1, 1, 0, ..., 1, 1, 0],\n",
       "       [1, 0, 1, ..., 1, 1, 1],\n",
       "       ...,\n",
       "       [0, 1, 1, ..., 1, 0, 0],\n",
       "       [1, 1, 1, ..., 0, 1, 1],\n",
       "       [1, 0, 1, ..., 0, 1, 1]])"
      ]
     },
     "execution_count": 9,
     "metadata": {},
     "output_type": "execute_result"
    }
   ],
   "source": [
    "r = generateRandomRestrictions(100)\n",
    "r"
   ]
  },
  {
   "cell_type": "code",
   "execution_count": 10,
   "id": "82ff09f9",
   "metadata": {},
   "outputs": [],
   "source": [
    "sol = hillClimb(np.zeros(100),r, evaluationFunctionMELI, neighborhoodOfSolutionMELI)"
   ]
  },
  {
   "cell_type": "code",
   "execution_count": 11,
   "id": "938a9afd",
   "metadata": {},
   "outputs": [
    {
     "name": "stdout",
     "output_type": "stream",
     "text": [
      "True\n"
     ]
    },
    {
     "data": {
      "text/plain": [
       "90.0"
      ]
     },
     "execution_count": 11,
     "metadata": {},
     "output_type": "execute_result"
    }
   ],
   "source": [
    "print(isSolutionFeasible(sol,r))\n",
    "\n",
    "evaluationFunctionMELI(sol,r)"
   ]
  }
 ],
 "metadata": {
  "kernelspec": {
   "display_name": "Python 3 (ipykernel)",
   "language": "python",
   "name": "python3"
  },
  "language_info": {
   "codemirror_mode": {
    "name": "ipython",
    "version": 3
   },
   "file_extension": ".py",
   "mimetype": "text/x-python",
   "name": "python",
   "nbconvert_exporter": "python",
   "pygments_lexer": "ipython3",
   "version": "3.10.9"
  }
 },
 "nbformat": 4,
 "nbformat_minor": 5
}
