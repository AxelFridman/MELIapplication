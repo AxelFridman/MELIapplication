{
 "cells": [
  {
   "cell_type": "markdown",
   "id": "5f8574d6",
   "metadata": {},
   "source": [
    "### Data preparation"
   ]
  },
  {
   "cell_type": "markdown",
   "id": "e233e2f8",
   "metadata": {},
   "source": [
    "Importing the libraries we will use to solve the linear programming challenge"
   ]
  },
  {
   "cell_type": "code",
   "execution_count": 1,
   "id": "be750f74",
   "metadata": {},
   "outputs": [],
   "source": [
    "import numpy as np\n",
    "import pandas as pd\n",
    "import setup\n",
    "from docplex.mp.model import Model"
   ]
  },
  {
   "cell_type": "markdown",
   "id": "605058ae",
   "metadata": {},
   "source": [
    "Reading the xslx files with all the data of the problem"
   ]
  },
  {
   "cell_type": "code",
   "execution_count": 2,
   "id": "4e5ec246",
   "metadata": {},
   "outputs": [],
   "source": [
    "dfdemand = pd.read_excel('data_or_test.xlsx', sheet_name='Demand')\n",
    "dfMarkup = pd.read_excel('data_or_test.xlsx', sheet_name='Markup')\n",
    "dfLastmile = pd.read_excel('data_or_test.xlsx', sheet_name='Last Mile')\n",
    "dfStock = pd.read_excel('data_or_test.xlsx', sheet_name='Stock')\n",
    "dfIniStock = pd.read_excel('data_or_test.xlsx', sheet_name='Initial Stock')\n",
    "dfTransfers = pd.read_excel('data_or_test.xlsx', sheet_name='Transfers')\n",
    "dfInbound = pd.read_excel('data_or_test.xlsx', sheet_name='Inbound')\n",
    "dfProduct = pd.read_excel('data_or_test.xlsx', sheet_name='Product')"
   ]
  },
  {
   "cell_type": "markdown",
   "id": "991e26c4",
   "metadata": {},
   "source": [
    "Visualizing the data as a dataframe and checking if it's in the correct format "
   ]
  },
  {
   "cell_type": "code",
   "execution_count": 3,
   "id": "715933a8",
   "metadata": {},
   "outputs": [
    {
     "data": {
      "text/html": [
       "<div>\n",
       "<style scoped>\n",
       "    .dataframe tbody tr th:only-of-type {\n",
       "        vertical-align: middle;\n",
       "    }\n",
       "\n",
       "    .dataframe tbody tr th {\n",
       "        vertical-align: top;\n",
       "    }\n",
       "\n",
       "    .dataframe thead th {\n",
       "        text-align: right;\n",
       "    }\n",
       "</style>\n",
       "<table border=\"1\" class=\"dataframe\">\n",
       "  <thead>\n",
       "    <tr style=\"text-align: right;\">\n",
       "      <th></th>\n",
       "      <th>State</th>\n",
       "      <th>Seller</th>\n",
       "      <th>Product</th>\n",
       "      <th>Week</th>\n",
       "      <th>Demand (unit)</th>\n",
       "      <th>Price</th>\n",
       "    </tr>\n",
       "  </thead>\n",
       "  <tbody>\n",
       "    <tr>\n",
       "      <th>0</th>\n",
       "      <td>ST1</td>\n",
       "      <td>S1</td>\n",
       "      <td>P1</td>\n",
       "      <td>W1</td>\n",
       "      <td>668</td>\n",
       "      <td>1449.19</td>\n",
       "    </tr>\n",
       "    <tr>\n",
       "      <th>1</th>\n",
       "      <td>ST1</td>\n",
       "      <td>S1</td>\n",
       "      <td>P1</td>\n",
       "      <td>W2</td>\n",
       "      <td>887</td>\n",
       "      <td>1983.44</td>\n",
       "    </tr>\n",
       "    <tr>\n",
       "      <th>2</th>\n",
       "      <td>ST1</td>\n",
       "      <td>S1</td>\n",
       "      <td>P1</td>\n",
       "      <td>W3</td>\n",
       "      <td>499</td>\n",
       "      <td>1386.48</td>\n",
       "    </tr>\n",
       "    <tr>\n",
       "      <th>3</th>\n",
       "      <td>ST1</td>\n",
       "      <td>S1</td>\n",
       "      <td>P1</td>\n",
       "      <td>W4</td>\n",
       "      <td>281</td>\n",
       "      <td>889.35</td>\n",
       "    </tr>\n",
       "    <tr>\n",
       "      <th>4</th>\n",
       "      <td>ST1</td>\n",
       "      <td>S2</td>\n",
       "      <td>P2</td>\n",
       "      <td>W1</td>\n",
       "      <td>144</td>\n",
       "      <td>2115.55</td>\n",
       "    </tr>\n",
       "  </tbody>\n",
       "</table>\n",
       "</div>"
      ],
      "text/plain": [
       "  State Seller Product Week  Demand (unit)    Price\n",
       "0   ST1     S1      P1   W1            668  1449.19\n",
       "1   ST1     S1      P1   W2            887  1983.44\n",
       "2   ST1     S1      P1   W3            499  1386.48\n",
       "3   ST1     S1      P1   W4            281   889.35\n",
       "4   ST1     S2      P2   W1            144  2115.55"
      ]
     },
     "execution_count": 3,
     "metadata": {},
     "output_type": "execute_result"
    }
   ],
   "source": [
    "dfdemand.head()"
   ]
  },
  {
   "cell_type": "markdown",
   "id": "4a7367d7",
   "metadata": {},
   "source": [
    "Defining the list of values in which our variables will span. "
   ]
  },
  {
   "cell_type": "code",
   "execution_count": 4,
   "id": "9de58198",
   "metadata": {},
   "outputs": [
    {
     "data": {
      "text/plain": [
       "['C1', 'C2', 'C3', 'C4', 'C5']"
      ]
     },
     "execution_count": 4,
     "metadata": {},
     "output_type": "execute_result"
    }
   ],
   "source": [
    "list((dfTransfers[\"Category\"]).unique())"
   ]
  },
  {
   "cell_type": "code",
   "execution_count": 5,
   "id": "ae85bcaf",
   "metadata": {},
   "outputs": [],
   "source": [
    "days = list(range(0,28 ))\n",
    "fcenters = list((dfTransfers[\"FC\"]).unique())\n",
    "sellers = list((dfdemand[\"Seller\"]).unique())\n",
    "states = list((dfdemand[\"State\"]).unique())\n",
    "products = list((dfdemand[\"Product\"]).unique())\n",
    "categories = list((dfTransfers[\"Category\"]).unique())"
   ]
  },
  {
   "cell_type": "markdown",
   "id": "65717802",
   "metadata": {},
   "source": [
    "Example:"
   ]
  },
  {
   "cell_type": "code",
   "execution_count": 6,
   "id": "1c4f9bef",
   "metadata": {},
   "outputs": [
    {
     "name": "stdout",
     "output_type": "stream",
     "text": [
      "['ST1', 'ST2', 'ST3', 'ST4', 'ST5', 'ST6', 'ST7', 'ST8', 'ST9', 'ST10']\n"
     ]
    }
   ],
   "source": [
    "print(states)"
   ]
  },
  {
   "cell_type": "markdown",
   "id": "25cc2b90",
   "metadata": {},
   "source": [
    "# The mathematical model"
   ]
  },
  {
   "cell_type": "markdown",
   "id": "4897095e",
   "metadata": {},
   "source": [
    "### Variables"
   ]
  },
  {
   "cell_type": "markdown",
   "id": "76e5e9d4",
   "metadata": {},
   "source": [
    "We define the CPLEX model we will be using"
   ]
  },
  {
   "cell_type": "code",
   "execution_count": 7,
   "id": "dbf2ee8d",
   "metadata": {},
   "outputs": [],
   "source": [
    "mdl = Model(name=\"modelEcoMole\")"
   ]
  },
  {
   "cell_type": "markdown",
   "id": "30a7d786",
   "metadata": {},
   "source": [
    " When creating variables, we will use the following type format:\n",
    " B,I,C,N,S or type short names (e.g.: binary, integer, continuous, semicontinuous, semiinteger)"
   ]
  },
  {
   "cell_type": "markdown",
   "id": "8b61f7ba",
   "metadata": {},
   "source": [
    "stockAtFC represents the amount of stock that a given fullfilment center has at a given day of a given product. Therefore it must be any non negative integer."
   ]
  },
  {
   "cell_type": "code",
   "execution_count": 8,
   "id": "2d9227ee",
   "metadata": {},
   "outputs": [
    {
     "data": {
      "text/plain": [
       "25200"
      ]
     },
     "execution_count": 8,
     "metadata": {},
     "output_type": "execute_result"
    }
   ],
   "source": [
    "stockAtFC = mdl.var_hypercube(vartype_spec='I', seq_of_keys=[fcenters, days, products])\n",
    "len(stockAtFC)"
   ]
  },
  {
   "cell_type": "markdown",
   "id": "f8634359",
   "metadata": {},
   "source": [
    "transferBetweenFCs represents the amount of products that a given fullfilment center transfers to another fullfilment center at a given day of a given product. Therefore it must be any non negative integer."
   ]
  },
  {
   "cell_type": "code",
   "execution_count": null,
   "id": "99f5bdfd",
   "metadata": {},
   "outputs": [],
   "source": []
  },
  {
   "cell_type": "code",
   "execution_count": 9,
   "id": "c44527c6",
   "metadata": {},
   "outputs": [
    {
     "data": {
      "text/plain": [
       "75600"
      ]
     },
     "execution_count": 9,
     "metadata": {},
     "output_type": "execute_result"
    }
   ],
   "source": [
    "transferBetweenFCs = mdl.var_hypercube(vartype_spec='I', seq_of_keys=[fcenters, fcenters, days, products])\n",
    "len(transferBetweenFCs)"
   ]
  },
  {
   "cell_type": "code",
   "execution_count": 10,
   "id": "de0192bf",
   "metadata": {},
   "outputs": [
    {
     "data": {
      "text/plain": [
       "252000"
      ]
     },
     "execution_count": 10,
     "metadata": {},
     "output_type": "execute_result"
    }
   ],
   "source": [
    "deliveryToStateFromFC = mdl.var_hypercube(vartype_spec='I', seq_of_keys=[fcenters, states, days, products])\n",
    "len(deliveryToStateFromFC)"
   ]
  },
  {
   "cell_type": "code",
   "execution_count": 11,
   "id": "965e4354",
   "metadata": {},
   "outputs": [
    {
     "data": {
      "text/plain": [
       "25200"
      ]
     },
     "execution_count": 11,
     "metadata": {},
     "output_type": "execute_result"
    }
   ],
   "source": [
    "amountInboundAtFCProd = mdl.var_hypercube(vartype_spec='I', seq_of_keys=[fcenters, days, products])\n",
    "len(amountInboundAtFCProd)"
   ]
  },
  {
   "cell_type": "markdown",
   "id": "637cd29f",
   "metadata": {},
   "source": [
    "### Auxiliar functions"
   ]
  },
  {
   "cell_type": "code",
   "execution_count": 12,
   "id": "26501b57",
   "metadata": {},
   "outputs": [],
   "source": [
    "def giveCategoryOfProduct(p):\n",
    "    return(list(dfProduct[dfProduct[\"Product\"] == p][\"Category\"])[0])"
   ]
  },
  {
   "cell_type": "code",
   "execution_count": 13,
   "id": "fdb9a0a6",
   "metadata": {},
   "outputs": [
    {
     "data": {
      "text/plain": [
       "'C5'"
      ]
     },
     "execution_count": 13,
     "metadata": {},
     "output_type": "execute_result"
    }
   ],
   "source": [
    "giveCategoryOfProduct(\"P2\")"
   ]
  },
  {
   "cell_type": "code",
   "execution_count": 14,
   "id": "aba94f5a",
   "metadata": {},
   "outputs": [],
   "source": [
    "def giveSellerOfProduct(p):\n",
    "    return(list(dfIniStock[dfIniStock[\"Product\"] == p][\"Seller\"])[0])"
   ]
  },
  {
   "cell_type": "code",
   "execution_count": 15,
   "id": "05c85a8a",
   "metadata": {},
   "outputs": [
    {
     "data": {
      "text/plain": [
       "'S24'"
      ]
     },
     "execution_count": 15,
     "metadata": {},
     "output_type": "execute_result"
    }
   ],
   "source": [
    "giveSellerOfProduct(\"P124\")"
   ]
  },
  {
   "cell_type": "code",
   "execution_count": 16,
   "id": "5f662d56",
   "metadata": {},
   "outputs": [],
   "source": [
    "def giveCostOfInbound(s,c,fc):\n",
    "    return(list(dfInbound[(dfInbound[\"Seller\"] == s) & (dfInbound[\"Category\"] == c) & (dfInbound[\"FC\"] == fc) ][\"Cost (per unit)\"])[0])"
   ]
  },
  {
   "cell_type": "code",
   "execution_count": 17,
   "id": "9736b3c6",
   "metadata": {},
   "outputs": [
    {
     "data": {
      "text/plain": [
       "30.25"
      ]
     },
     "execution_count": 17,
     "metadata": {},
     "output_type": "execute_result"
    }
   ],
   "source": [
    "giveCostOfInbound(\"S2\",\"C3\",\"FC2\")"
   ]
  },
  {
   "cell_type": "code",
   "execution_count": 18,
   "id": "00729cd6",
   "metadata": {},
   "outputs": [],
   "source": [
    "def giveCostOfStorage(p):\n",
    "    return(list(dfStock[(dfStock[\"Product\"] == p)][\"Cost (per day and unit)\"])[0])"
   ]
  },
  {
   "cell_type": "code",
   "execution_count": 19,
   "id": "0b31ac71",
   "metadata": {},
   "outputs": [
    {
     "data": {
      "text/plain": [
       "5.99"
      ]
     },
     "execution_count": 19,
     "metadata": {},
     "output_type": "execute_result"
    }
   ],
   "source": [
    "giveCostOfStorage(\"P5\")"
   ]
  },
  {
   "cell_type": "markdown",
   "id": "8a2b9480",
   "metadata": {},
   "source": [
    "### Restrictions"
   ]
  },
  {
   "cell_type": "code",
   "execution_count": null,
   "id": "9b5eab84",
   "metadata": {},
   "outputs": [
    {
     "name": "stdout",
     "output_type": "stream",
     "text": [
      "0\n",
      "1\n",
      "2\n",
      "3\n"
     ]
    }
   ],
   "source": [
    "InboundCosts = 0\n",
    "for d in days:\n",
    "    print(d)\n",
    "    for fc in fcenters:\n",
    "        for p in products:\n",
    "            c = giveCategoryOfProduct(p)\n",
    "            s = giveSellerOfProduct(p)\n",
    "            costThisCSFC = giveCostOfInbound(s,c,fc)\n",
    "            InboundCosts = InboundCosts + costThisCSFC * amountInboundAtFCProd[fc,d,p]"
   ]
  },
  {
   "cell_type": "code",
   "execution_count": null,
   "id": "d6361fb0",
   "metadata": {},
   "outputs": [],
   "source": [
    "StorageCost = 0\n",
    "for d in days:\n",
    "    print(d)\n",
    "    for fc in fcenters:\n",
    "        for p in products:\n",
    "            costThisP = giveCostOfStorage(p)\n",
    "            StorageCost = StorageCost + costThisP * stockAtFC[fc,d,p]"
   ]
  },
  {
   "cell_type": "code",
   "execution_count": null,
   "id": "ffe2f9b4",
   "metadata": {},
   "outputs": [],
   "source": [
    "TotalCosts = InboundCosts + StorageCost + TransfersCosts + LastMileCosts"
   ]
  },
  {
   "cell_type": "code",
   "execution_count": null,
   "id": "ea226d92",
   "metadata": {},
   "outputs": [],
   "source": [
    "msol = mdl.solve()"
   ]
  },
  {
   "cell_type": "code",
   "execution_count": null,
   "id": "9eff51b1",
   "metadata": {},
   "outputs": [],
   "source": [
    "msol.get_value(hc[1,3,\"a\",2])"
   ]
  }
 ],
 "metadata": {
  "kernelspec": {
   "display_name": "Python 3 (ipykernel)",
   "language": "python",
   "name": "python3"
  },
  "language_info": {
   "codemirror_mode": {
    "name": "ipython",
    "version": 3
   },
   "file_extension": ".py",
   "mimetype": "text/x-python",
   "name": "python",
   "nbconvert_exporter": "python",
   "pygments_lexer": "ipython3",
   "version": "3.9.13"
  }
 },
 "nbformat": 4,
 "nbformat_minor": 5
}
