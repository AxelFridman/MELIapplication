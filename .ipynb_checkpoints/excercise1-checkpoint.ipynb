{
 "cells": [
  {
   "cell_type": "markdown",
   "id": "1c9f8300",
   "metadata": {},
   "source": [
    "### Data preparation"
   ]
  },
  {
   "cell_type": "markdown",
   "id": "b111dc5f",
   "metadata": {},
   "source": [
    "Importing the libraries we will use to solve the linear programming challenge"
   ]
  },
  {
   "cell_type": "code",
   "execution_count": 1,
   "id": "e16d8d96",
   "metadata": {},
   "outputs": [],
   "source": [
    "import numpy as np\n",
    "import math\n",
    "import pandas as pd\n",
    "import setup\n",
    "from docplex.mp.model import Model"
   ]
  },
  {
   "cell_type": "markdown",
   "id": "c9c12673",
   "metadata": {},
   "source": [
    "Reading the xslx files with all the data of the problem"
   ]
  },
  {
   "cell_type": "code",
   "execution_count": 2,
   "id": "c8fa2a6f",
   "metadata": {},
   "outputs": [],
   "source": [
    "dfdemand = pd.read_excel('data_or_test.xlsx', sheet_name='Demand')\n",
    "dfMarkup = pd.read_excel('data_or_test.xlsx', sheet_name='Markup')\n",
    "dfLastmile = pd.read_excel('data_or_test.xlsx', sheet_name='Last Mile')\n",
    "dfStock = pd.read_excel('data_or_test.xlsx', sheet_name='Stock')\n",
    "dfIniStock = pd.read_excel('data_or_test.xlsx', sheet_name='Initial Stock')\n",
    "dfTransfers = pd.read_excel('data_or_test.xlsx', sheet_name='Transfers')\n",
    "dfInbound = pd.read_excel('data_or_test.xlsx', sheet_name='Inbound')\n",
    "dfProduct = pd.read_excel('data_or_test.xlsx', sheet_name='Product')"
   ]
  },
  {
   "cell_type": "markdown",
   "id": "abf2f8b4",
   "metadata": {},
   "source": [
    "Visualizing the data as a dataframe and checking if it's in the correct format "
   ]
  },
  {
   "cell_type": "code",
   "execution_count": 3,
   "id": "f7dab948",
   "metadata": {},
   "outputs": [
    {
     "data": {
      "text/html": [
       "<div>\n",
       "<style scoped>\n",
       "    .dataframe tbody tr th:only-of-type {\n",
       "        vertical-align: middle;\n",
       "    }\n",
       "\n",
       "    .dataframe tbody tr th {\n",
       "        vertical-align: top;\n",
       "    }\n",
       "\n",
       "    .dataframe thead th {\n",
       "        text-align: right;\n",
       "    }\n",
       "</style>\n",
       "<table border=\"1\" class=\"dataframe\">\n",
       "  <thead>\n",
       "    <tr style=\"text-align: right;\">\n",
       "      <th></th>\n",
       "      <th>State</th>\n",
       "      <th>Seller</th>\n",
       "      <th>Product</th>\n",
       "      <th>Week</th>\n",
       "      <th>Demand (unit)</th>\n",
       "      <th>Price</th>\n",
       "    </tr>\n",
       "  </thead>\n",
       "  <tbody>\n",
       "    <tr>\n",
       "      <th>0</th>\n",
       "      <td>ST1</td>\n",
       "      <td>S1</td>\n",
       "      <td>P1</td>\n",
       "      <td>W1</td>\n",
       "      <td>668</td>\n",
       "      <td>1449.19</td>\n",
       "    </tr>\n",
       "    <tr>\n",
       "      <th>1</th>\n",
       "      <td>ST1</td>\n",
       "      <td>S1</td>\n",
       "      <td>P1</td>\n",
       "      <td>W2</td>\n",
       "      <td>887</td>\n",
       "      <td>1983.44</td>\n",
       "    </tr>\n",
       "    <tr>\n",
       "      <th>2</th>\n",
       "      <td>ST1</td>\n",
       "      <td>S1</td>\n",
       "      <td>P1</td>\n",
       "      <td>W3</td>\n",
       "      <td>499</td>\n",
       "      <td>1386.48</td>\n",
       "    </tr>\n",
       "    <tr>\n",
       "      <th>3</th>\n",
       "      <td>ST1</td>\n",
       "      <td>S1</td>\n",
       "      <td>P1</td>\n",
       "      <td>W4</td>\n",
       "      <td>281</td>\n",
       "      <td>889.35</td>\n",
       "    </tr>\n",
       "    <tr>\n",
       "      <th>4</th>\n",
       "      <td>ST1</td>\n",
       "      <td>S2</td>\n",
       "      <td>P2</td>\n",
       "      <td>W1</td>\n",
       "      <td>144</td>\n",
       "      <td>2115.55</td>\n",
       "    </tr>\n",
       "  </tbody>\n",
       "</table>\n",
       "</div>"
      ],
      "text/plain": [
       "  State Seller Product Week  Demand (unit)    Price\n",
       "0   ST1     S1      P1   W1            668  1449.19\n",
       "1   ST1     S1      P1   W2            887  1983.44\n",
       "2   ST1     S1      P1   W3            499  1386.48\n",
       "3   ST1     S1      P1   W4            281   889.35\n",
       "4   ST1     S2      P2   W1            144  2115.55"
      ]
     },
     "execution_count": 3,
     "metadata": {},
     "output_type": "execute_result"
    }
   ],
   "source": [
    "dfdemand.head()"
   ]
  },
  {
   "cell_type": "markdown",
   "id": "36c89a75",
   "metadata": {},
   "source": [
    "Defining the list of values in which our variables will span. "
   ]
  },
  {
   "cell_type": "code",
   "execution_count": 4,
   "id": "e8f16bc0",
   "metadata": {},
   "outputs": [
    {
     "data": {
      "text/plain": [
       "['C1', 'C2', 'C3', 'C4', 'C5']"
      ]
     },
     "execution_count": 4,
     "metadata": {},
     "output_type": "execute_result"
    }
   ],
   "source": [
    "list((dfTransfers[\"Category\"]).unique())"
   ]
  },
  {
   "cell_type": "code",
   "execution_count": 5,
   "id": "f1cb9187",
   "metadata": {},
   "outputs": [],
   "source": [
    "days = list(range(1,4 )) # DEBERIA SER 29 CAMBIAR!!!!!!!!!!!!!!!!!!!!!!!!!!!\n",
    "weeks =  list((dfdemand[\"Week\"]).unique())\n",
    "fcenters = list((dfTransfers[\"FC\"]).unique())\n",
    "sellers = list((dfdemand[\"Seller\"]).unique())\n",
    "states = list((dfdemand[\"State\"]).unique())\n",
    "products = list((dfdemand[\"Product\"]).unique())\n",
    "categories = list((dfTransfers[\"Category\"]).unique())"
   ]
  },
  {
   "cell_type": "markdown",
   "id": "0d5bad9e",
   "metadata": {},
   "source": [
    "Example:"
   ]
  },
  {
   "cell_type": "code",
   "execution_count": 6,
   "id": "71971f89",
   "metadata": {},
   "outputs": [
    {
     "name": "stdout",
     "output_type": "stream",
     "text": [
      "['ST1', 'ST2', 'ST3', 'ST4', 'ST5', 'ST6', 'ST7', 'ST8', 'ST9', 'ST10']\n"
     ]
    }
   ],
   "source": [
    "print(states)"
   ]
  },
  {
   "cell_type": "markdown",
   "id": "825586c1",
   "metadata": {},
   "source": [
    "# The mathematical model"
   ]
  },
  {
   "cell_type": "markdown",
   "id": "702d10ed",
   "metadata": {},
   "source": [
    "### Variables"
   ]
  },
  {
   "cell_type": "markdown",
   "id": "77dec306",
   "metadata": {},
   "source": [
    "We define the CPLEX model we will be using"
   ]
  },
  {
   "cell_type": "code",
   "execution_count": 7,
   "id": "0403f195",
   "metadata": {},
   "outputs": [],
   "source": [
    "mdl = Model(name=\"modelEcoMole\")"
   ]
  },
  {
   "cell_type": "markdown",
   "id": "a01347b1",
   "metadata": {},
   "source": [
    " When creating variables, we will use the following type format:\n",
    " B,I,C,N,S or type short names (e.g.: binary, integer, continuous, semicontinuous, semiinteger)"
   ]
  },
  {
   "cell_type": "markdown",
   "id": "4fc3f96a",
   "metadata": {},
   "source": [
    "stockAtFC represents the amount of stock that a given fullfilment center has at a given day of a given product. Therefore it must be any non negative integer."
   ]
  },
  {
   "cell_type": "code",
   "execution_count": 8,
   "id": "0a6ee336",
   "metadata": {},
   "outputs": [
    {
     "data": {
      "text/plain": [
       "2700"
      ]
     },
     "execution_count": 8,
     "metadata": {},
     "output_type": "execute_result"
    }
   ],
   "source": [
    "stockAtFC = mdl.var_hypercube(vartype_spec='I', seq_of_keys=[fcenters, days, products])\n",
    "len(stockAtFC)"
   ]
  },
  {
   "cell_type": "markdown",
   "id": "6c36d071",
   "metadata": {},
   "source": [
    "transferBetweenFCs represents the amount of products that a given fullfilment center transfers to another fullfilment center at a given day of a given product. Therefore it must be any non negative integer."
   ]
  },
  {
   "cell_type": "code",
   "execution_count": 9,
   "id": "be5dfc6d",
   "metadata": {},
   "outputs": [
    {
     "data": {
      "text/plain": [
       "8100"
      ]
     },
     "execution_count": 9,
     "metadata": {},
     "output_type": "execute_result"
    }
   ],
   "source": [
    "transferBetweenFCs = mdl.var_hypercube(vartype_spec='I', seq_of_keys=[fcenters, fcenters, days, products])\n",
    "len(transferBetweenFCs)"
   ]
  },
  {
   "cell_type": "code",
   "execution_count": 10,
   "id": "b5a8eb26",
   "metadata": {},
   "outputs": [
    {
     "data": {
      "text/plain": [
       "27000"
      ]
     },
     "execution_count": 10,
     "metadata": {},
     "output_type": "execute_result"
    }
   ],
   "source": [
    "deliveryToStateFromFC = mdl.var_hypercube(vartype_spec='I', seq_of_keys=[fcenters, states, days, products])\n",
    "len(deliveryToStateFromFC)"
   ]
  },
  {
   "cell_type": "code",
   "execution_count": 11,
   "id": "1dc585d0",
   "metadata": {},
   "outputs": [
    {
     "data": {
      "text/plain": [
       "2700"
      ]
     },
     "execution_count": 11,
     "metadata": {},
     "output_type": "execute_result"
    }
   ],
   "source": [
    "amountInboundAtFCProd = mdl.var_hypercube(vartype_spec='I', seq_of_keys=[fcenters, days, products])\n",
    "len(amountInboundAtFCProd)"
   ]
  },
  {
   "cell_type": "markdown",
   "id": "1816f5fc",
   "metadata": {},
   "source": [
    "### Auxiliar functions"
   ]
  },
  {
   "cell_type": "code",
   "execution_count": 12,
   "id": "eac9dc37",
   "metadata": {},
   "outputs": [],
   "source": [
    "def giveCategoryOfProduct(p):\n",
    "    return(list(dfProduct[dfProduct[\"Product\"] == p][\"Category\"])[0])"
   ]
  },
  {
   "cell_type": "code",
   "execution_count": 13,
   "id": "ea8e86c2",
   "metadata": {},
   "outputs": [
    {
     "data": {
      "text/plain": [
       "'C5'"
      ]
     },
     "execution_count": 13,
     "metadata": {},
     "output_type": "execute_result"
    }
   ],
   "source": [
    "giveCategoryOfProduct(\"P2\")"
   ]
  },
  {
   "cell_type": "code",
   "execution_count": 14,
   "id": "3dad37f6",
   "metadata": {},
   "outputs": [],
   "source": [
    "def giveSellerOfProduct(p):\n",
    "    return(list(dfIniStock[dfIniStock[\"Product\"] == p][\"Seller\"])[0])"
   ]
  },
  {
   "cell_type": "code",
   "execution_count": 15,
   "id": "73b85520",
   "metadata": {},
   "outputs": [
    {
     "data": {
      "text/plain": [
       "'S24'"
      ]
     },
     "execution_count": 15,
     "metadata": {},
     "output_type": "execute_result"
    }
   ],
   "source": [
    "giveSellerOfProduct(\"P124\")"
   ]
  },
  {
   "cell_type": "code",
   "execution_count": 16,
   "id": "1f64d844",
   "metadata": {},
   "outputs": [],
   "source": [
    "def giveDemandOfProduct(p, sta, w):\n",
    "    return(list(dfdemand[(dfdemand[\"Product\"] == p)&(dfdemand[\"State\"] == sta)&(dfdemand[\"Week\"] == w)][\"Demand (unit)\"])[0])"
   ]
  },
  {
   "cell_type": "code",
   "execution_count": 17,
   "id": "ba5b8b97",
   "metadata": {},
   "outputs": [
    {
     "data": {
      "text/plain": [
       "397"
      ]
     },
     "execution_count": 17,
     "metadata": {},
     "output_type": "execute_result"
    }
   ],
   "source": [
    "giveDemandOfProduct(\"P3\", \"ST1\", \"W3\")"
   ]
  },
  {
   "cell_type": "code",
   "execution_count": 18,
   "id": "cd170965",
   "metadata": {},
   "outputs": [],
   "source": [
    "def givePriceOfProduct(p, sta, w):\n",
    "    return(list(dfdemand[(dfdemand[\"Product\"] == p)&(dfdemand[\"State\"] == sta)&(dfdemand[\"Week\"] == w)][\"Price\"])[0])"
   ]
  },
  {
   "cell_type": "code",
   "execution_count": 19,
   "id": "46b0ed2f",
   "metadata": {},
   "outputs": [
    {
     "data": {
      "text/plain": [
       "1312.53"
      ]
     },
     "execution_count": 19,
     "metadata": {},
     "output_type": "execute_result"
    }
   ],
   "source": [
    "givePriceOfProduct(\"P2\",\"ST1\", \"W4\")"
   ]
  },
  {
   "cell_type": "code",
   "execution_count": 20,
   "id": "ab79391a",
   "metadata": {},
   "outputs": [],
   "source": [
    "def giveLastMileCostOfProduct(p, sta, fc):\n",
    "    c = giveCategoryOfProduct(p)\n",
    "    return(list(dfLastmile[(dfLastmile[\"Category\"] == c)&(dfLastmile[\"State\"] == sta)&(dfLastmile[\"FC\"] == fc)][\"Cost (per unit)\"])[0])"
   ]
  },
  {
   "cell_type": "code",
   "execution_count": 21,
   "id": "f3808efe",
   "metadata": {},
   "outputs": [
    {
     "data": {
      "text/plain": [
       "34.0"
      ]
     },
     "execution_count": 21,
     "metadata": {},
     "output_type": "execute_result"
    }
   ],
   "source": [
    "giveLastMileCostOfProduct(\"P2\", \"ST4\", \"FC3\")"
   ]
  },
  {
   "cell_type": "code",
   "execution_count": 22,
   "id": "93cc05b8",
   "metadata": {},
   "outputs": [],
   "source": [
    "def giveWeekOfDay(d):\n",
    "    w = math.ceil((d/28 * 4))\n",
    "    weekAsString = \"W\"+str(w)\n",
    "    return(weekAsString)"
   ]
  },
  {
   "cell_type": "code",
   "execution_count": 23,
   "id": "3cf53001",
   "metadata": {},
   "outputs": [
    {
     "data": {
      "text/plain": [
       "'W2'"
      ]
     },
     "execution_count": 23,
     "metadata": {},
     "output_type": "execute_result"
    }
   ],
   "source": [
    "giveWeekOfDay(11)"
   ]
  },
  {
   "cell_type": "code",
   "execution_count": 24,
   "id": "786f5c95",
   "metadata": {},
   "outputs": [],
   "source": [
    "def giveCostOfInbound(s,c,fc):\n",
    "    return(list(dfInbound[(dfInbound[\"Seller\"] == s) & (dfInbound[\"Category\"] == c) & (dfInbound[\"FC\"] == fc) ][\"Cost (per unit)\"])[0])"
   ]
  },
  {
   "cell_type": "code",
   "execution_count": 25,
   "id": "d9302e5e",
   "metadata": {},
   "outputs": [
    {
     "data": {
      "text/plain": [
       "30.25"
      ]
     },
     "execution_count": 25,
     "metadata": {},
     "output_type": "execute_result"
    }
   ],
   "source": [
    "giveCostOfInbound(\"S2\",\"C3\",\"FC2\")"
   ]
  },
  {
   "cell_type": "code",
   "execution_count": 83,
   "id": "3c8a862d",
   "metadata": {},
   "outputs": [],
   "source": [
    "def giveTimeOfInbound(s,c,fc):\n",
    "    return(list(dfInbound[(dfInbound[\"Seller\"] == s) & (dfInbound[\"Category\"] == c) & (dfInbound[\"FC\"] == fc) ][\"Time (days)\"])[0])"
   ]
  },
  {
   "cell_type": "code",
   "execution_count": 85,
   "id": "92376d02",
   "metadata": {},
   "outputs": [
    {
     "data": {
      "text/plain": [
       "3"
      ]
     },
     "execution_count": 85,
     "metadata": {},
     "output_type": "execute_result"
    }
   ],
   "source": [
    "giveTimeOfInbound(\"S2\",\"C4\",\"FC2\")"
   ]
  },
  {
   "cell_type": "code",
   "execution_count": 61,
   "id": "f920dd10",
   "metadata": {},
   "outputs": [],
   "source": [
    "def giveCostOfStorage(p, fc):\n",
    "    return(list(dfStock[(dfStock[\"Product\"] == p)&(dfStock[\"FC\"] == fc)][\"Cost (per day and unit)\"])[0])"
   ]
  },
  {
   "cell_type": "code",
   "execution_count": 62,
   "id": "dadd80b7",
   "metadata": {},
   "outputs": [
    {
     "data": {
      "text/plain": [
       "5.36"
      ]
     },
     "execution_count": 62,
     "metadata": {},
     "output_type": "execute_result"
    }
   ],
   "source": [
    "giveCostOfStorage(\"P5\", \"FC2\")"
   ]
  },
  {
   "cell_type": "code",
   "execution_count": 28,
   "id": "3d547d06",
   "metadata": {},
   "outputs": [],
   "source": [
    "def giveCostOfTransfer(fc1, fc2, c):\n",
    "    return(list(dfTransfers[(dfTransfers[\"FC\"] == fc1)&(dfTransfers[\"FC.1\"] == fc2) &(dfTransfers[\"Category\"] == c) ][\"Cost (per unit)\"])[0])"
   ]
  },
  {
   "cell_type": "code",
   "execution_count": 29,
   "id": "cdcfb09d",
   "metadata": {},
   "outputs": [
    {
     "data": {
      "text/plain": [
       "10.37"
      ]
     },
     "execution_count": 29,
     "metadata": {},
     "output_type": "execute_result"
    }
   ],
   "source": [
    "giveCostOfTransfer(\"FC3\", \"FC1\", \"C4\")"
   ]
  },
  {
   "cell_type": "code",
   "execution_count": 79,
   "id": "9cb5a5a9",
   "metadata": {},
   "outputs": [],
   "source": [
    "def giveTimeOfTransfer(fc1, fc2, c):\n",
    "    return(list(dfTransfers[(dfTransfers[\"FC\"] == fc1)&(dfTransfers[\"FC.1\"] == fc2) &(dfTransfers[\"Category\"] == c) ][\"Time (days)\"])[0])"
   ]
  },
  {
   "cell_type": "code",
   "execution_count": 82,
   "id": "ceb19650",
   "metadata": {},
   "outputs": [
    {
     "data": {
      "text/plain": [
       "3"
      ]
     },
     "execution_count": 82,
     "metadata": {},
     "output_type": "execute_result"
    }
   ],
   "source": [
    "giveTimeOfTransfer(\"FC3\", \"FC1\", \"C4\")"
   ]
  },
  {
   "cell_type": "code",
   "execution_count": 30,
   "id": "caacea06",
   "metadata": {},
   "outputs": [],
   "source": [
    "def giveMarkUpOfSeller(s):\n",
    "    return(list(dfMarkup[(dfMarkup[\"Seller\"] == s)][\"Markup (%)\"])[0])"
   ]
  },
  {
   "cell_type": "code",
   "execution_count": 31,
   "id": "4b2f1eef",
   "metadata": {},
   "outputs": [
    {
     "data": {
      "text/plain": [
       "7"
      ]
     },
     "execution_count": 31,
     "metadata": {},
     "output_type": "execute_result"
    }
   ],
   "source": [
    "giveMarkUpOfSeller(\"S4\")"
   ]
  },
  {
   "cell_type": "code",
   "execution_count": 32,
   "id": "3f5217c6",
   "metadata": {},
   "outputs": [],
   "source": [
    "def giveInitialStock(p, fc):\n",
    "    return(list(dfIniStock[(dfIniStock[\"Product\"] == p)&(dfIniStock[\"FC\"] == fc)][\"Quantity (unit)\"])[0])"
   ]
  },
  {
   "cell_type": "code",
   "execution_count": 33,
   "id": "3939ddfa",
   "metadata": {},
   "outputs": [
    {
     "data": {
      "text/plain": [
       "162"
      ]
     },
     "execution_count": 33,
     "metadata": {},
     "output_type": "execute_result"
    }
   ],
   "source": [
    "giveInitialStock(\"P190\", \"FC3\")"
   ]
  },
  {
   "cell_type": "markdown",
   "id": "a93f3a88",
   "metadata": {},
   "source": [
    "### Objective function and related restrictions"
   ]
  },
  {
   "cell_type": "code",
   "execution_count": 34,
   "id": "41a3f8cd",
   "metadata": {},
   "outputs": [],
   "source": [
    "InboundCosts = 0\n",
    "for d in days:\n",
    "    #print(d)\n",
    "    for fc in fcenters:\n",
    "        for p in products:\n",
    "            c = giveCategoryOfProduct(p)\n",
    "            s = giveSellerOfProduct(p)\n",
    "            costThisCSFC = giveCostOfInbound(s,c,fc)\n",
    "            InboundCosts = InboundCosts + costThisCSFC * amountInboundAtFCProd[fc,d,p]"
   ]
  },
  {
   "cell_type": "code",
   "execution_count": 63,
   "id": "e65cb668",
   "metadata": {},
   "outputs": [],
   "source": [
    "StorageCost = 0\n",
    "for d in days:\n",
    "    #print(d)\n",
    "    for fc in fcenters:\n",
    "        for p in products:\n",
    "            costThisP = giveCostOfStorage(p, fc)\n",
    "            StorageCost = StorageCost + costThisP * stockAtFC[fc,d,p]"
   ]
  },
  {
   "cell_type": "code",
   "execution_count": 36,
   "id": "04dadc89",
   "metadata": {},
   "outputs": [],
   "source": [
    "TransfersCosts = 0\n",
    "for d in days:\n",
    "    #print(d)\n",
    "    for fc1 in fcenters:\n",
    "        for fc2 in fcenters:\n",
    "            if(fc1 != fc2):\n",
    "                for p in products:\n",
    "                    c = giveCategoryOfProduct(p)\n",
    "                    costThisTran = giveCostOfTransfer(fc1, fc2, c)\n",
    "                    TransfersCosts = TransfersCosts + costThisTran * transferBetweenFCs[fc1,fc2,d,p]"
   ]
  },
  {
   "cell_type": "markdown",
   "id": "af1f716b",
   "metadata": {},
   "source": [
    "Los costos de last mile no usan demanda porque la restriccion de la demanda esta en otro lado"
   ]
  },
  {
   "cell_type": "code",
   "execution_count": 37,
   "id": "3a3f57ca",
   "metadata": {},
   "outputs": [],
   "source": [
    "LastMileCosts = 0\n",
    "for d in days:\n",
    "    #print(d)\n",
    "    for fc in fcenters:\n",
    "        for st in states:\n",
    "            for p in products:\n",
    "                costThisLastmile = giveLastMileCostOfProduct(p, st, fc)\n",
    "                TransfersCosts = TransfersCosts + costThisLastmile * deliveryToStateFromFC[fc,st,d,p]"
   ]
  },
  {
   "cell_type": "code",
   "execution_count": 64,
   "id": "bbbf1edc",
   "metadata": {},
   "outputs": [],
   "source": [
    "TotalCosts = InboundCosts + StorageCost + TransfersCosts + LastMileCosts"
   ]
  },
  {
   "cell_type": "markdown",
   "id": "fbfd0730",
   "metadata": {},
   "source": [
    "Note that revenue from markup is not a variable we can change. ()\n",
    "\n",
    "Therefore defining: Profit = Revenue - Costs \n",
    "\n",
    "is only dependant on Costs. That means that the solutions to maximize(Profit) are equivalent to the ones that minimize(Costs)"
   ]
  },
  {
   "cell_type": "code",
   "execution_count": 39,
   "id": "703bccab",
   "metadata": {},
   "outputs": [],
   "source": [
    "revenue = 0\n",
    "for w in weeks:\n",
    "    for p in products:\n",
    "        for st in states:\n",
    "            demandaThis = giveDemandOfProduct(p, st, w)\n",
    "            priceThis = givePriceOfProduct(p, st, w)\n",
    "            s = giveSellerOfProduct(p)\n",
    "            markupThis = giveMarkUpOfSeller(s)\n",
    "            revenue = revenue + (markupThis/100) * priceThis * demandaThis"
   ]
  },
  {
   "cell_type": "code",
   "execution_count": 40,
   "id": "dff8a0d3",
   "metadata": {},
   "outputs": [
    {
     "name": "stdout",
     "output_type": "stream",
     "text": [
      "1369020027.1043003\n"
     ]
    }
   ],
   "source": [
    "print(revenue)"
   ]
  },
  {
   "cell_type": "code",
   "execution_count": 71,
   "id": "4bad244e",
   "metadata": {},
   "outputs": [],
   "source": [
    "Profit = revenue - TotalCosts"
   ]
  },
  {
   "cell_type": "code",
   "execution_count": 72,
   "id": "dba5684f",
   "metadata": {},
   "outputs": [],
   "source": [
    "mdl.maximize(Profit)"
   ]
  },
  {
   "cell_type": "markdown",
   "id": "4688f304",
   "metadata": {},
   "source": [
    "### Stock restrictions"
   ]
  },
  {
   "cell_type": "markdown",
   "id": "e4eeecf6",
   "metadata": {},
   "source": [
    "We set the initial stock"
   ]
  },
  {
   "cell_type": "code",
   "execution_count": 73,
   "id": "3d00df66",
   "metadata": {},
   "outputs": [],
   "source": [
    "for fc in fcenters:\n",
    "    for p in products:\n",
    "        stockAtFC[fc, 1, p] = giveInitialStock(p, fc) #On day 1 we have the initial stock"
   ]
  },
  {
   "cell_type": "markdown",
   "id": "2514c9aa",
   "metadata": {},
   "source": [
    "The stock at a given day is the stock the stock of yesterday + stock arrived - the stock that departed.\n",
    "The stock can arrive or departure either from sellers or other fullfilment centers."
   ]
  },
  {
   "cell_type": "code",
   "execution_count": 87,
   "id": "bf68ce67",
   "metadata": {},
   "outputs": [],
   "source": [
    "for d in days:\n",
    "    if(d!=1):\n",
    "        for fc1 in fcenters:\n",
    "            for p in products:\n",
    "                c = giveCategoryOfProduct(p)\n",
    "                s = giveSellerOfProduct(p)\n",
    "                arrivals = 0\n",
    "                departures = 0\n",
    "                for fc2 in fcenters:\n",
    "                    if(fc1!=fc2):\n",
    "                        potentialTimeArrival = giveTimeOfTransfer(fc2, fc1, c)\n",
    "                        dprev = d - potentialTimeArrival\n",
    "                        if(dprev>=1):\n",
    "                            arrivals = arrivals + transferBetweenFCs[fc2,fc1,dprev,p]\n",
    "                        departures = departures + transferBetweenFCs[fc1,fc2,d,p] \n",
    "                \n",
    "                potentialTimeInbound = giveTimeOfInbound(s,c,fc1)\n",
    "                dprev2 = d - potentialTimeInbound\n",
    "                if(dprev2>=1):\n",
    "                    arrivals = arrivals + amountInboundAtFCProd[fc1,d,p]\n",
    "                for st in states:\n",
    "                    departures = departures + deliveryToStateFromFC[fc1, st, d, p]\n",
    "                stockAtFC[fc1, d, p] = stockAtFC[fc1, d-1, p] + arrivals - departures"
   ]
  },
  {
   "cell_type": "code",
   "execution_count": 88,
   "id": "1e983475",
   "metadata": {},
   "outputs": [],
   "source": [
    "msol = mdl.solve()"
   ]
  },
  {
   "cell_type": "code",
   "execution_count": 89,
   "id": "513b7029",
   "metadata": {},
   "outputs": [
    {
     "data": {
      "text/plain": [
       "1368699151.2743003"
      ]
     },
     "execution_count": 89,
     "metadata": {},
     "output_type": "execute_result"
    }
   ],
   "source": [
    "msol.get_value(Profit)"
   ]
  },
  {
   "cell_type": "code",
   "execution_count": 100,
   "id": "d0f931df",
   "metadata": {},
   "outputs": [
    {
     "data": {
      "text/plain": [
       "101"
      ]
     },
     "execution_count": 100,
     "metadata": {},
     "output_type": "execute_result"
    }
   ],
   "source": [
    "msol.get_value(stockAtFC[(\"FC1\",2,\"P1\")])"
   ]
  },
  {
   "cell_type": "code",
   "execution_count": 101,
   "id": "fe88297d",
   "metadata": {},
   "outputs": [
    {
     "data": {
      "text/plain": [
       "320875.8299999998"
      ]
     },
     "execution_count": 101,
     "metadata": {},
     "output_type": "execute_result"
    }
   ],
   "source": [
    "msol.get_value(TotalCosts)"
   ]
  },
  {
   "cell_type": "code",
   "execution_count": 102,
   "id": "141d015f",
   "metadata": {},
   "outputs": [
    {
     "data": {
      "text/plain": [
       "320875.8299999998"
      ]
     },
     "execution_count": 102,
     "metadata": {},
     "output_type": "execute_result"
    }
   ],
   "source": [
    "msol.get_value(StorageCost)"
   ]
  }
 ],
 "metadata": {
  "kernelspec": {
   "display_name": "Python 3 (ipykernel)",
   "language": "python",
   "name": "python3"
  },
  "language_info": {
   "codemirror_mode": {
    "name": "ipython",
    "version": 3
   },
   "file_extension": ".py",
   "mimetype": "text/x-python",
   "name": "python",
   "nbconvert_exporter": "python",
   "pygments_lexer": "ipython3",
   "version": "3.9.13"
  }
 },
 "nbformat": 4,
 "nbformat_minor": 5
}
