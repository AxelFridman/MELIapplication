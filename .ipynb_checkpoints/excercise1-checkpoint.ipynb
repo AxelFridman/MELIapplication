{
 "cells": [
  {
   "cell_type": "code",
   "execution_count": 1,
   "id": "530d586e",
   "metadata": {},
   "outputs": [],
   "source": [
    "import numpy as np\n",
    "import pandas as pd\n",
    "import setup\n",
    "from docplex.mp.model import Model"
   ]
  },
  {
   "cell_type": "code",
   "execution_count": 2,
   "id": "df9914b6",
   "metadata": {},
   "outputs": [],
   "source": [
    "dfdemand = pd.read_excel('data_or_test.xlsx', sheet_name='Demand')\n",
    "dfMarkup = pd.read_excel('data_or_test.xlsx', sheet_name='Markup')\n",
    "dfLastmile = pd.read_excel('data_or_test.xlsx', sheet_name='Last Mile')\n",
    "dfStock = pd.read_excel('data_or_test.xlsx', sheet_name='Stock')\n",
    "dfIniStock = pd.read_excel('data_or_test.xlsx', sheet_name='Initial Stock')\n",
    "dfTransfers = pd.read_excel('data_or_test.xlsx', sheet_name='Transfers')\n",
    "dfInbound = pd.read_excel('data_or_test.xlsx', sheet_name='Inbound')\n",
    "dfProduct = pd.read_excel('data_or_test.xlsx', sheet_name='Product')"
   ]
  },
  {
   "cell_type": "code",
   "execution_count": 3,
   "id": "d4af7230",
   "metadata": {},
   "outputs": [],
   "source": [
    "def removeLetters(df, columnas): # Le saco las letras y le resto 1 al indice para mayor comodidad\n",
    "    for c in columnas:\n",
    "        df[c] = pd.to_numeric((df[c].str.replace('\\D', '', regex=True))) - 1\n",
    "    return df"
   ]
  },
  {
   "cell_type": "code",
   "execution_count": 4,
   "id": "eb668e47",
   "metadata": {},
   "outputs": [
    {
     "data": {
      "text/plain": [
       "Index(['Seller', 'Markup (%)'], dtype='object')"
      ]
     },
     "execution_count": 4,
     "metadata": {},
     "output_type": "execute_result"
    }
   ],
   "source": [
    "dfMarkup.columns"
   ]
  },
  {
   "cell_type": "code",
   "execution_count": 5,
   "id": "e1a39cae",
   "metadata": {},
   "outputs": [],
   "source": [
    "dfdemand = removeLetters(dfdemand,['State', 'Seller', 'Product', 'Week'])\n",
    "dfMarkup = removeLetters(dfMarkup,['Seller'])\n",
    "dfLastmile = removeLetters(dfLastmile,['FC',\"State\",\"Category\"])\n",
    "dfStock = removeLetters(dfStock,['FC',\"Seller\",\"Product\"])\n",
    "dfIniStock = removeLetters(dfIniStock,['FC',\"Seller\",\"Product\"])\n",
    "dfTransfers = removeLetters(dfTransfers,['FC',\"FC.1\",\"Category\"])\n",
    "dfInbound = removeLetters(dfInbound,['FC',\"Seller\",\"Category\"])\n",
    "dfProduct = removeLetters(dfProduct,[\"Product\",\"Category\"])"
   ]
  },
  {
   "cell_type": "code",
   "execution_count": 6,
   "id": "2339f661",
   "metadata": {},
   "outputs": [
    {
     "data": {
      "text/html": [
       "<div>\n",
       "<style scoped>\n",
       "    .dataframe tbody tr th:only-of-type {\n",
       "        vertical-align: middle;\n",
       "    }\n",
       "\n",
       "    .dataframe tbody tr th {\n",
       "        vertical-align: top;\n",
       "    }\n",
       "\n",
       "    .dataframe thead th {\n",
       "        text-align: right;\n",
       "    }\n",
       "</style>\n",
       "<table border=\"1\" class=\"dataframe\">\n",
       "  <thead>\n",
       "    <tr style=\"text-align: right;\">\n",
       "      <th></th>\n",
       "      <th>State</th>\n",
       "      <th>Seller</th>\n",
       "      <th>Product</th>\n",
       "      <th>Week</th>\n",
       "      <th>Demand (unit)</th>\n",
       "      <th>Price</th>\n",
       "    </tr>\n",
       "  </thead>\n",
       "  <tbody>\n",
       "    <tr>\n",
       "      <th>0</th>\n",
       "      <td>0</td>\n",
       "      <td>0</td>\n",
       "      <td>0</td>\n",
       "      <td>0</td>\n",
       "      <td>668</td>\n",
       "      <td>1449.19</td>\n",
       "    </tr>\n",
       "    <tr>\n",
       "      <th>1</th>\n",
       "      <td>0</td>\n",
       "      <td>0</td>\n",
       "      <td>0</td>\n",
       "      <td>1</td>\n",
       "      <td>887</td>\n",
       "      <td>1983.44</td>\n",
       "    </tr>\n",
       "    <tr>\n",
       "      <th>2</th>\n",
       "      <td>0</td>\n",
       "      <td>0</td>\n",
       "      <td>0</td>\n",
       "      <td>2</td>\n",
       "      <td>499</td>\n",
       "      <td>1386.48</td>\n",
       "    </tr>\n",
       "    <tr>\n",
       "      <th>3</th>\n",
       "      <td>0</td>\n",
       "      <td>0</td>\n",
       "      <td>0</td>\n",
       "      <td>3</td>\n",
       "      <td>281</td>\n",
       "      <td>889.35</td>\n",
       "    </tr>\n",
       "    <tr>\n",
       "      <th>4</th>\n",
       "      <td>0</td>\n",
       "      <td>1</td>\n",
       "      <td>1</td>\n",
       "      <td>0</td>\n",
       "      <td>144</td>\n",
       "      <td>2115.55</td>\n",
       "    </tr>\n",
       "    <tr>\n",
       "      <th>...</th>\n",
       "      <td>...</td>\n",
       "      <td>...</td>\n",
       "      <td>...</td>\n",
       "      <td>...</td>\n",
       "      <td>...</td>\n",
       "      <td>...</td>\n",
       "    </tr>\n",
       "    <tr>\n",
       "      <th>11995</th>\n",
       "      <td>9</td>\n",
       "      <td>48</td>\n",
       "      <td>298</td>\n",
       "      <td>3</td>\n",
       "      <td>883</td>\n",
       "      <td>294.92</td>\n",
       "    </tr>\n",
       "    <tr>\n",
       "      <th>11996</th>\n",
       "      <td>9</td>\n",
       "      <td>49</td>\n",
       "      <td>299</td>\n",
       "      <td>0</td>\n",
       "      <td>137</td>\n",
       "      <td>732.65</td>\n",
       "    </tr>\n",
       "    <tr>\n",
       "      <th>11997</th>\n",
       "      <td>9</td>\n",
       "      <td>49</td>\n",
       "      <td>299</td>\n",
       "      <td>1</td>\n",
       "      <td>218</td>\n",
       "      <td>737.64</td>\n",
       "    </tr>\n",
       "    <tr>\n",
       "      <th>11998</th>\n",
       "      <td>9</td>\n",
       "      <td>49</td>\n",
       "      <td>299</td>\n",
       "      <td>2</td>\n",
       "      <td>321</td>\n",
       "      <td>2120.03</td>\n",
       "    </tr>\n",
       "    <tr>\n",
       "      <th>11999</th>\n",
       "      <td>9</td>\n",
       "      <td>49</td>\n",
       "      <td>299</td>\n",
       "      <td>3</td>\n",
       "      <td>417</td>\n",
       "      <td>2246.80</td>\n",
       "    </tr>\n",
       "  </tbody>\n",
       "</table>\n",
       "<p>12000 rows × 6 columns</p>\n",
       "</div>"
      ],
      "text/plain": [
       "       State  Seller  Product  Week  Demand (unit)    Price\n",
       "0          0       0        0     0            668  1449.19\n",
       "1          0       0        0     1            887  1983.44\n",
       "2          0       0        0     2            499  1386.48\n",
       "3          0       0        0     3            281   889.35\n",
       "4          0       1        1     0            144  2115.55\n",
       "...      ...     ...      ...   ...            ...      ...\n",
       "11995      9      48      298     3            883   294.92\n",
       "11996      9      49      299     0            137   732.65\n",
       "11997      9      49      299     1            218   737.64\n",
       "11998      9      49      299     2            321  2120.03\n",
       "11999      9      49      299     3            417  2246.80\n",
       "\n",
       "[12000 rows x 6 columns]"
      ]
     },
     "execution_count": 6,
     "metadata": {},
     "output_type": "execute_result"
    }
   ],
   "source": [
    "dfdemand"
   ]
  },
  {
   "cell_type": "code",
   "execution_count": 13,
   "id": "9c290bc8",
   "metadata": {},
   "outputs": [],
   "source": [
    "days = list(range(0,10 ))\n",
    "fcenters = list(range(0,3 ))\n",
    "sellers = list(range(0, 50))\n",
    "zones = list(range(0,10))\n",
    "products = list(range(0,300))\n",
    "categorias = list(range(0,5))"
   ]
  }
 ],
 "metadata": {
  "kernelspec": {
   "display_name": "Python 3 (ipykernel)",
   "language": "python",
   "name": "python3"
  },
  "language_info": {
   "codemirror_mode": {
    "name": "ipython",
    "version": 3
   },
   "file_extension": ".py",
   "mimetype": "text/x-python",
   "name": "python",
   "nbconvert_exporter": "python",
   "pygments_lexer": "ipython3",
   "version": "3.9.13"
  }
 },
 "nbformat": 4,
 "nbformat_minor": 5
}
