{
 "cells": [
  {
   "cell_type": "markdown",
   "id": "104c3cd9",
   "metadata": {},
   "source": [
    "### Data preparation"
   ]
  },
  {
   "cell_type": "markdown",
   "id": "76a51f7b",
   "metadata": {},
   "source": [
    "Importing the libraries we will use to solve the linear programming challenge"
   ]
  },
  {
   "cell_type": "code",
   "execution_count": 1,
   "id": "aa6c75bc",
   "metadata": {},
   "outputs": [],
   "source": [
    "import numpy as np\n",
    "import math\n",
    "import pandas as pd\n",
    "import setup\n",
    "from docplex.mp.model import Model\n",
    "from docplex.mp.conflict_refiner import ConflictRefiner\n"
   ]
  },
  {
   "cell_type": "markdown",
   "id": "10e1f697",
   "metadata": {},
   "source": [
    "Reading the xslx files with all the data of the problem"
   ]
  },
  {
   "cell_type": "code",
   "execution_count": 2,
   "id": "7b99281a",
   "metadata": {},
   "outputs": [],
   "source": [
    "dfdemand = pd.read_excel('data_or_test.xlsx', sheet_name='Demand')\n",
    "dfMarkup = pd.read_excel('data_or_test.xlsx', sheet_name='Markup')\n",
    "dfLastmile = pd.read_excel('data_or_test.xlsx', sheet_name='Last Mile')\n",
    "dfStock = pd.read_excel('data_or_test.xlsx', sheet_name='Stock')\n",
    "dfIniStock = pd.read_excel('data_or_test.xlsx', sheet_name='Initial Stock')\n",
    "dfTransfers = pd.read_excel('data_or_test.xlsx', sheet_name='Transfers')\n",
    "dfInbound = pd.read_excel('data_or_test.xlsx', sheet_name='Inbound')\n",
    "dfProduct = pd.read_excel('data_or_test.xlsx', sheet_name='Product')"
   ]
  },
  {
   "cell_type": "markdown",
   "id": "2deb7c68",
   "metadata": {},
   "source": [
    "I modified the cost of deliverying from a fulfillment center to a state to a very large number if the delay was greater than 2 days since the departure from the FC"
   ]
  },
  {
   "cell_type": "code",
   "execution_count": 3,
   "id": "02c53a21",
   "metadata": {},
   "outputs": [],
   "source": [
    "M = 100000000\n",
    "dfLastmile['Cost (per unit)'] = dfLastmile.apply(lambda x: M if x['Time (days)']>2 else x['Cost (per unit)'], axis=1)\n"
   ]
  },
  {
   "cell_type": "markdown",
   "id": "e398a90d",
   "metadata": {},
   "source": [
    "Visualizing the data as a dataframe and checking if it's in the correct format "
   ]
  },
  {
   "cell_type": "code",
   "execution_count": 4,
   "id": "abc5848c",
   "metadata": {},
   "outputs": [
    {
     "data": {
      "text/html": [
       "<div>\n",
       "<style scoped>\n",
       "    .dataframe tbody tr th:only-of-type {\n",
       "        vertical-align: middle;\n",
       "    }\n",
       "\n",
       "    .dataframe tbody tr th {\n",
       "        vertical-align: top;\n",
       "    }\n",
       "\n",
       "    .dataframe thead th {\n",
       "        text-align: right;\n",
       "    }\n",
       "</style>\n",
       "<table border=\"1\" class=\"dataframe\">\n",
       "  <thead>\n",
       "    <tr style=\"text-align: right;\">\n",
       "      <th></th>\n",
       "      <th>State</th>\n",
       "      <th>Seller</th>\n",
       "      <th>Product</th>\n",
       "      <th>Week</th>\n",
       "      <th>Demand (unit)</th>\n",
       "      <th>Price</th>\n",
       "    </tr>\n",
       "  </thead>\n",
       "  <tbody>\n",
       "    <tr>\n",
       "      <th>0</th>\n",
       "      <td>ST1</td>\n",
       "      <td>S1</td>\n",
       "      <td>P1</td>\n",
       "      <td>W1</td>\n",
       "      <td>668</td>\n",
       "      <td>1449.19</td>\n",
       "    </tr>\n",
       "    <tr>\n",
       "      <th>1</th>\n",
       "      <td>ST1</td>\n",
       "      <td>S1</td>\n",
       "      <td>P1</td>\n",
       "      <td>W2</td>\n",
       "      <td>887</td>\n",
       "      <td>1983.44</td>\n",
       "    </tr>\n",
       "    <tr>\n",
       "      <th>2</th>\n",
       "      <td>ST1</td>\n",
       "      <td>S1</td>\n",
       "      <td>P1</td>\n",
       "      <td>W3</td>\n",
       "      <td>499</td>\n",
       "      <td>1386.48</td>\n",
       "    </tr>\n",
       "    <tr>\n",
       "      <th>3</th>\n",
       "      <td>ST1</td>\n",
       "      <td>S1</td>\n",
       "      <td>P1</td>\n",
       "      <td>W4</td>\n",
       "      <td>281</td>\n",
       "      <td>889.35</td>\n",
       "    </tr>\n",
       "    <tr>\n",
       "      <th>4</th>\n",
       "      <td>ST1</td>\n",
       "      <td>S2</td>\n",
       "      <td>P2</td>\n",
       "      <td>W1</td>\n",
       "      <td>144</td>\n",
       "      <td>2115.55</td>\n",
       "    </tr>\n",
       "  </tbody>\n",
       "</table>\n",
       "</div>"
      ],
      "text/plain": [
       "  State Seller Product Week  Demand (unit)    Price\n",
       "0   ST1     S1      P1   W1            668  1449.19\n",
       "1   ST1     S1      P1   W2            887  1983.44\n",
       "2   ST1     S1      P1   W3            499  1386.48\n",
       "3   ST1     S1      P1   W4            281   889.35\n",
       "4   ST1     S2      P2   W1            144  2115.55"
      ]
     },
     "execution_count": 4,
     "metadata": {},
     "output_type": "execute_result"
    }
   ],
   "source": [
    "dfdemand.head()"
   ]
  },
  {
   "cell_type": "markdown",
   "id": "74a74b2a",
   "metadata": {},
   "source": [
    "Defining the list of values in which our variables will span. "
   ]
  },
  {
   "cell_type": "code",
   "execution_count": 5,
   "id": "f3621b19",
   "metadata": {},
   "outputs": [
    {
     "data": {
      "text/plain": [
       "['C1', 'C2', 'C3', 'C4', 'C5']"
      ]
     },
     "execution_count": 5,
     "metadata": {},
     "output_type": "execute_result"
    }
   ],
   "source": [
    "list((dfTransfers[\"Category\"]).unique())"
   ]
  },
  {
   "cell_type": "code",
   "execution_count": 6,
   "id": "3f86f906",
   "metadata": {},
   "outputs": [],
   "source": [
    "days = list(range(1,29 ))\n",
    "weeks =  list((dfdemand[\"Week\"]).unique())\n",
    "fcenters = list((dfTransfers[\"FC\"]).unique())\n",
    "sellers = list((dfdemand[\"Seller\"]).unique())\n",
    "states = list((dfdemand[\"State\"]).unique())\n",
    "products = list((dfdemand[\"Product\"]).unique())\n",
    "categories = list((dfTransfers[\"Category\"]).unique())"
   ]
  },
  {
   "cell_type": "markdown",
   "id": "fd85eca9",
   "metadata": {},
   "source": [
    "Example:"
   ]
  },
  {
   "cell_type": "code",
   "execution_count": 7,
   "id": "3a0f0870",
   "metadata": {},
   "outputs": [
    {
     "name": "stdout",
     "output_type": "stream",
     "text": [
      "['ST1', 'ST2', 'ST3', 'ST4', 'ST5', 'ST6', 'ST7', 'ST8', 'ST9', 'ST10']\n"
     ]
    }
   ],
   "source": [
    "print(states)"
   ]
  },
  {
   "cell_type": "markdown",
   "id": "91bc0f2d",
   "metadata": {},
   "source": [
    "# The mathematical model"
   ]
  },
  {
   "cell_type": "markdown",
   "id": "38929d6b",
   "metadata": {},
   "source": [
    "### Variables"
   ]
  },
  {
   "cell_type": "markdown",
   "id": "b0f5e6ea",
   "metadata": {},
   "source": [
    "We define the CPLEX model we will be using"
   ]
  },
  {
   "cell_type": "code",
   "execution_count": 8,
   "id": "d0fbd246",
   "metadata": {},
   "outputs": [],
   "source": [
    "mdl = Model(name=\"modelEcoMole\")"
   ]
  },
  {
   "cell_type": "markdown",
   "id": "8e4c868e",
   "metadata": {},
   "source": [
    " When creating variables, we will use the following type format:\n",
    " B,I,C,N,S or type short names (e.g.: binary, integer, continuous, semicontinuous, semiinteger)"
   ]
  },
  {
   "cell_type": "markdown",
   "id": "5ec133b9",
   "metadata": {},
   "source": [
    "stockAtFC represents the amount of stock that a given fullfilment center has at a given day of a given product. Therefore it must be any non negative integer."
   ]
  },
  {
   "cell_type": "code",
   "execution_count": 9,
   "id": "19c818c8",
   "metadata": {},
   "outputs": [
    {
     "data": {
      "text/plain": [
       "25200"
      ]
     },
     "execution_count": 9,
     "metadata": {},
     "output_type": "execute_result"
    }
   ],
   "source": [
    "stockAtFC = mdl.var_hypercube(vartype_spec='I', seq_of_keys=[fcenters, days, products])\n",
    "len(stockAtFC)"
   ]
  },
  {
   "cell_type": "markdown",
   "id": "60a38ed7",
   "metadata": {},
   "source": [
    "transferBetweenFCs represents the amount of products that a given fullfilment center transfers to another fullfilment center at a given day of a given product. Therefore it must be any non negative integer."
   ]
  },
  {
   "cell_type": "code",
   "execution_count": 10,
   "id": "64596cde",
   "metadata": {},
   "outputs": [
    {
     "data": {
      "text/plain": [
       "75600"
      ]
     },
     "execution_count": 10,
     "metadata": {},
     "output_type": "execute_result"
    }
   ],
   "source": [
    "transferBetweenFCs = mdl.var_hypercube(vartype_spec='I', seq_of_keys=[fcenters, fcenters, days, products])\n",
    "len(transferBetweenFCs)"
   ]
  },
  {
   "cell_type": "markdown",
   "id": "fca6f3e2",
   "metadata": {},
   "source": [
    "deliveryToStateFromFC represents the amount of product that a given fullfilment center transfers to a client at a given state at a given day. "
   ]
  },
  {
   "cell_type": "code",
   "execution_count": 11,
   "id": "2fa45bfd",
   "metadata": {},
   "outputs": [
    {
     "data": {
      "text/plain": [
       "252000"
      ]
     },
     "execution_count": 11,
     "metadata": {},
     "output_type": "execute_result"
    }
   ],
   "source": [
    "deliveryToStateFromFC = mdl.var_hypercube(vartype_spec='I', seq_of_keys=[fcenters, states, days, products])\n",
    "len(deliveryToStateFromFC)"
   ]
  },
  {
   "cell_type": "markdown",
   "id": "ceab9ddb",
   "metadata": {},
   "source": [
    "amountInboundAtFCProd represents the amount of product that a given fullfilment center recives from a seller at a given day."
   ]
  },
  {
   "cell_type": "code",
   "execution_count": 12,
   "id": "70a374b5",
   "metadata": {},
   "outputs": [
    {
     "data": {
      "text/plain": [
       "25200"
      ]
     },
     "execution_count": 12,
     "metadata": {},
     "output_type": "execute_result"
    }
   ],
   "source": [
    "amountInboundAtFCProd = mdl.var_hypercube(vartype_spec='I', seq_of_keys=[fcenters, days, products])\n",
    "len(amountInboundAtFCProd)"
   ]
  },
  {
   "cell_type": "markdown",
   "id": "328873a2",
   "metadata": {},
   "source": [
    "### Auxiliar functions"
   ]
  },
  {
   "cell_type": "code",
   "execution_count": 13,
   "id": "faa0d5e0",
   "metadata": {},
   "outputs": [],
   "source": [
    "def giveCategoryOfProduct(p):\n",
    "    return(list(dfProduct[dfProduct[\"Product\"] == p][\"Category\"])[0])"
   ]
  },
  {
   "cell_type": "code",
   "execution_count": 14,
   "id": "9dbad99f",
   "metadata": {},
   "outputs": [
    {
     "data": {
      "text/plain": [
       "'C5'"
      ]
     },
     "execution_count": 14,
     "metadata": {},
     "output_type": "execute_result"
    }
   ],
   "source": [
    "giveCategoryOfProduct(\"P2\")"
   ]
  },
  {
   "cell_type": "code",
   "execution_count": 15,
   "id": "f52c72ea",
   "metadata": {},
   "outputs": [],
   "source": [
    "def giveSellerOfProduct(p):\n",
    "    return(list(dfIniStock[dfIniStock[\"Product\"] == p][\"Seller\"])[0])"
   ]
  },
  {
   "cell_type": "code",
   "execution_count": 16,
   "id": "65a7d5de",
   "metadata": {},
   "outputs": [
    {
     "data": {
      "text/plain": [
       "'S24'"
      ]
     },
     "execution_count": 16,
     "metadata": {},
     "output_type": "execute_result"
    }
   ],
   "source": [
    "giveSellerOfProduct(\"P124\")"
   ]
  },
  {
   "cell_type": "code",
   "execution_count": 17,
   "id": "bf1dcae7",
   "metadata": {},
   "outputs": [],
   "source": [
    "def giveDemandOfProduct(p, sta, w):\n",
    "    return(list(dfdemand[(dfdemand[\"Product\"] == p)&(dfdemand[\"State\"] == sta)&(dfdemand[\"Week\"] == w)][\"Demand (unit)\"])[0])"
   ]
  },
  {
   "cell_type": "code",
   "execution_count": 18,
   "id": "2abc7c07",
   "metadata": {},
   "outputs": [
    {
     "data": {
      "text/plain": [
       "397"
      ]
     },
     "execution_count": 18,
     "metadata": {},
     "output_type": "execute_result"
    }
   ],
   "source": [
    "giveDemandOfProduct(\"P3\", \"ST1\", \"W3\")"
   ]
  },
  {
   "cell_type": "code",
   "execution_count": 19,
   "id": "a6715b41",
   "metadata": {},
   "outputs": [],
   "source": [
    "def givePriceOfProduct(p, sta, w):\n",
    "    return(list(dfdemand[(dfdemand[\"Product\"] == p)&(dfdemand[\"State\"] == sta)&(dfdemand[\"Week\"] == w)][\"Price\"])[0])"
   ]
  },
  {
   "cell_type": "code",
   "execution_count": 20,
   "id": "13a5eb3f",
   "metadata": {},
   "outputs": [
    {
     "data": {
      "text/plain": [
       "1312.53"
      ]
     },
     "execution_count": 20,
     "metadata": {},
     "output_type": "execute_result"
    }
   ],
   "source": [
    "givePriceOfProduct(\"P2\",\"ST1\", \"W4\")"
   ]
  },
  {
   "cell_type": "code",
   "execution_count": 21,
   "id": "539a0cfa",
   "metadata": {},
   "outputs": [],
   "source": [
    "def giveLastMileCostOfProduct(p, sta, fc):\n",
    "    c = giveCategoryOfProduct(p)\n",
    "    return(list(dfLastmile[(dfLastmile[\"Category\"] == c)&(dfLastmile[\"State\"] == sta)&(dfLastmile[\"FC\"] == fc)][\"Cost (per unit)\"])[0])"
   ]
  },
  {
   "cell_type": "code",
   "execution_count": 22,
   "id": "7e3e5f3d",
   "metadata": {},
   "outputs": [
    {
     "data": {
      "text/plain": [
       "34.0"
      ]
     },
     "execution_count": 22,
     "metadata": {},
     "output_type": "execute_result"
    }
   ],
   "source": [
    "giveLastMileCostOfProduct(\"P2\", \"ST4\", \"FC3\")"
   ]
  },
  {
   "cell_type": "code",
   "execution_count": 23,
   "id": "be73de13",
   "metadata": {},
   "outputs": [],
   "source": [
    "def giveWeekOfDay(d):\n",
    "    w = math.ceil((d/28 * 4))\n",
    "    weekAsString = \"W\"+str(w)\n",
    "    return(weekAsString)"
   ]
  },
  {
   "cell_type": "code",
   "execution_count": 24,
   "id": "9f6b9c60",
   "metadata": {},
   "outputs": [
    {
     "data": {
      "text/plain": [
       "'W2'"
      ]
     },
     "execution_count": 24,
     "metadata": {},
     "output_type": "execute_result"
    }
   ],
   "source": [
    "giveWeekOfDay(11)"
   ]
  },
  {
   "cell_type": "code",
   "execution_count": 25,
   "id": "7ada56cf",
   "metadata": {},
   "outputs": [],
   "source": [
    "def giveSafetyStock(p, fc):\n",
    "    return(list(dfStock[(dfStock[\"Product\"] == p) & (dfStock[\"FC\"] == fc)][\"Safety Stock (days of sales)\"])[0])"
   ]
  },
  {
   "cell_type": "code",
   "execution_count": 26,
   "id": "4c55c6ea",
   "metadata": {},
   "outputs": [
    {
     "data": {
      "text/plain": [
       "5"
      ]
     },
     "execution_count": 26,
     "metadata": {},
     "output_type": "execute_result"
    }
   ],
   "source": [
    "giveSafetyStock(\"P4\",\"FC2\")"
   ]
  },
  {
   "cell_type": "code",
   "execution_count": 27,
   "id": "a221fc65",
   "metadata": {},
   "outputs": [],
   "source": [
    "def giveCostOfInbound(s,c,fc):\n",
    "    return(list(dfInbound[(dfInbound[\"Seller\"] == s) & (dfInbound[\"Category\"] == c) & (dfInbound[\"FC\"] == fc) ][\"Cost (per unit)\"])[0])"
   ]
  },
  {
   "cell_type": "code",
   "execution_count": 28,
   "id": "33e4265b",
   "metadata": {},
   "outputs": [
    {
     "data": {
      "text/plain": [
       "30.25"
      ]
     },
     "execution_count": 28,
     "metadata": {},
     "output_type": "execute_result"
    }
   ],
   "source": [
    "giveCostOfInbound(\"S2\",\"C3\",\"FC2\")"
   ]
  },
  {
   "cell_type": "code",
   "execution_count": 29,
   "id": "f53e55a3",
   "metadata": {},
   "outputs": [],
   "source": [
    "def giveTimeOfInbound(s,c,fc):\n",
    "    return(list(dfInbound[(dfInbound[\"Seller\"] == s) & (dfInbound[\"Category\"] == c) & (dfInbound[\"FC\"] == fc) ][\"Time (days)\"])[0])"
   ]
  },
  {
   "cell_type": "code",
   "execution_count": 30,
   "id": "95530700",
   "metadata": {},
   "outputs": [
    {
     "data": {
      "text/plain": [
       "3"
      ]
     },
     "execution_count": 30,
     "metadata": {},
     "output_type": "execute_result"
    }
   ],
   "source": [
    "giveTimeOfInbound(\"S2\",\"C4\",\"FC2\")"
   ]
  },
  {
   "cell_type": "code",
   "execution_count": 31,
   "id": "f799da07",
   "metadata": {},
   "outputs": [],
   "source": [
    "def giveCostOfStorage(p, fc):\n",
    "    return(list(dfStock[(dfStock[\"Product\"] == p)&(dfStock[\"FC\"] == fc)][\"Cost (per day and unit)\"])[0])"
   ]
  },
  {
   "cell_type": "code",
   "execution_count": 32,
   "id": "4e11c72a",
   "metadata": {},
   "outputs": [
    {
     "data": {
      "text/plain": [
       "5.36"
      ]
     },
     "execution_count": 32,
     "metadata": {},
     "output_type": "execute_result"
    }
   ],
   "source": [
    "giveCostOfStorage(\"P5\", \"FC2\")"
   ]
  },
  {
   "cell_type": "code",
   "execution_count": 33,
   "id": "951ac23b",
   "metadata": {},
   "outputs": [],
   "source": [
    "def giveCostOfTransfer(fc1, fc2, c):\n",
    "    return(list(dfTransfers[(dfTransfers[\"FC\"] == fc1)&(dfTransfers[\"FC.1\"] == fc2) &(dfTransfers[\"Category\"] == c) ][\"Cost (per unit)\"])[0])"
   ]
  },
  {
   "cell_type": "code",
   "execution_count": 34,
   "id": "0d759ed3",
   "metadata": {},
   "outputs": [
    {
     "data": {
      "text/plain": [
       "10.37"
      ]
     },
     "execution_count": 34,
     "metadata": {},
     "output_type": "execute_result"
    }
   ],
   "source": [
    "giveCostOfTransfer(\"FC3\", \"FC1\", \"C4\")"
   ]
  },
  {
   "cell_type": "code",
   "execution_count": 35,
   "id": "db45f944",
   "metadata": {},
   "outputs": [],
   "source": [
    "def giveTimeOfTransfer(fc1, fc2, c):\n",
    "    return(list(dfTransfers[(dfTransfers[\"FC\"] == fc1)&(dfTransfers[\"FC.1\"] == fc2) &(dfTransfers[\"Category\"] == c) ][\"Time (days)\"])[0])"
   ]
  },
  {
   "cell_type": "code",
   "execution_count": 36,
   "id": "c1258b45",
   "metadata": {},
   "outputs": [
    {
     "data": {
      "text/plain": [
       "3"
      ]
     },
     "execution_count": 36,
     "metadata": {},
     "output_type": "execute_result"
    }
   ],
   "source": [
    "giveTimeOfTransfer(\"FC3\", \"FC1\", \"C4\")"
   ]
  },
  {
   "cell_type": "code",
   "execution_count": 37,
   "id": "01201898",
   "metadata": {},
   "outputs": [],
   "source": [
    "def giveMarkUpOfSeller(s):\n",
    "    return(list(dfMarkup[(dfMarkup[\"Seller\"] == s)][\"Markup (%)\"])[0])"
   ]
  },
  {
   "cell_type": "code",
   "execution_count": 38,
   "id": "73dcc7d6",
   "metadata": {},
   "outputs": [
    {
     "data": {
      "text/plain": [
       "7"
      ]
     },
     "execution_count": 38,
     "metadata": {},
     "output_type": "execute_result"
    }
   ],
   "source": [
    "giveMarkUpOfSeller(\"S4\")"
   ]
  },
  {
   "cell_type": "code",
   "execution_count": 39,
   "id": "d97cfb36",
   "metadata": {},
   "outputs": [],
   "source": [
    "def giveInitialStock(p, fc):\n",
    "    return(list(dfIniStock[(dfIniStock[\"Product\"] == p)&(dfIniStock[\"FC\"] == fc)][\"Quantity (unit)\"])[0])"
   ]
  },
  {
   "cell_type": "code",
   "execution_count": 40,
   "id": "caaa959d",
   "metadata": {},
   "outputs": [
    {
     "data": {
      "text/plain": [
       "162"
      ]
     },
     "execution_count": 40,
     "metadata": {},
     "output_type": "execute_result"
    }
   ],
   "source": [
    "giveInitialStock(\"P190\", \"FC3\")"
   ]
  },
  {
   "cell_type": "code",
   "execution_count": 41,
   "id": "c73e6432",
   "metadata": {},
   "outputs": [],
   "source": [
    "def giveAverageDemandPerDay(p): #Returns daily average demand  (all states and all weeks).\n",
    "    return(sum(list(dfdemand[(dfdemand[\"Product\"] == p)][\"Demand (unit)\"]))/(len(states)*len(weeks)*len(fcenters)))\n",
    "    "
   ]
  },
  {
   "cell_type": "code",
   "execution_count": 42,
   "id": "70dd02b2",
   "metadata": {},
   "outputs": [
    {
     "data": {
      "text/plain": [
       "179.66666666666666"
      ]
     },
     "execution_count": 42,
     "metadata": {},
     "output_type": "execute_result"
    }
   ],
   "source": [
    "giveAverageDemandPerDay(\"P123\")"
   ]
  },
  {
   "cell_type": "markdown",
   "id": "d2bc6f8f",
   "metadata": {},
   "source": [
    "### Objective function and related restrictions"
   ]
  },
  {
   "cell_type": "markdown",
   "id": "5065c506",
   "metadata": {},
   "source": [
    "Inbound costs are dependant on the amount of product moving and which fullfilment center will be de the destination."
   ]
  },
  {
   "cell_type": "code",
   "execution_count": 43,
   "id": "3df43237",
   "metadata": {},
   "outputs": [],
   "source": [
    "InboundCosts = 0\n",
    "for d in days:\n",
    "    #print(d)\n",
    "    for fc in fcenters:\n",
    "        for p in products:\n",
    "            c = giveCategoryOfProduct(p)\n",
    "            s = giveSellerOfProduct(p)\n",
    "            costThisCSFC = giveCostOfInbound(s,c,fc)\n",
    "            InboundCosts = InboundCosts + costThisCSFC * amountInboundAtFCProd[fc,d,p]"
   ]
  },
  {
   "cell_type": "markdown",
   "id": "d201d16f",
   "metadata": {},
   "source": [
    "Storage costs are dependant on the amount of product at a particular fulfilment center and the cost of that product per day."
   ]
  },
  {
   "cell_type": "code",
   "execution_count": null,
   "id": "f54381a1",
   "metadata": {},
   "outputs": [],
   "source": [
    "StorageCost = 0\n",
    "for d in days:\n",
    "    #print(d)\n",
    "    for fc in fcenters:\n",
    "        for p in products:\n",
    "            costThisP = giveCostOfStorage(p, fc)\n",
    "            StorageCost = StorageCost + costThisP * stockAtFC[fc,d,p]"
   ]
  },
  {
   "cell_type": "markdown",
   "id": "136e10d0",
   "metadata": {},
   "source": [
    "Transfer costs are dependant on the category of the product and fullfilment center of origin and the destination one. "
   ]
  },
  {
   "cell_type": "code",
   "execution_count": null,
   "id": "5b1c025d",
   "metadata": {},
   "outputs": [],
   "source": [
    "TransfersCosts = 0\n",
    "for d in days:\n",
    "    #print(d)\n",
    "    for fc1 in fcenters:\n",
    "        for fc2 in fcenters:\n",
    "            if(fc1 != fc2):\n",
    "                for p in products:\n",
    "                    c = giveCategoryOfProduct(p)\n",
    "                    costThisTran = giveCostOfTransfer(fc1, fc2, c)\n",
    "                    TransfersCosts = TransfersCosts + costThisTran * transferBetweenFCs[fc1,fc2,d,p]"
   ]
  },
  {
   "cell_type": "markdown",
   "id": "507f7500",
   "metadata": {},
   "source": [
    "Last mile costs depende on the state being delivered, from which fulfillment center and which product.\n"
   ]
  },
  {
   "cell_type": "code",
   "execution_count": null,
   "id": "163a5e47",
   "metadata": {},
   "outputs": [],
   "source": [
    "LastMileCosts = 0\n",
    "for d in days:\n",
    "    #print(d)\n",
    "    for fc in fcenters:\n",
    "        for st in states:\n",
    "            for p in products:\n",
    "                costThisLastmile = giveLastMileCostOfProduct(p, st, fc)\n",
    "                LastMileCosts = LastMileCosts + costThisLastmile * deliveryToStateFromFC[fc,st,d,p]"
   ]
  },
  {
   "cell_type": "code",
   "execution_count": null,
   "id": "d6375b00",
   "metadata": {},
   "outputs": [],
   "source": [
    "TotalCosts = InboundCosts + StorageCost + TransfersCosts + LastMileCosts"
   ]
  },
  {
   "cell_type": "markdown",
   "id": "d2f9c0e6",
   "metadata": {},
   "source": [
    "Note that revenue from markup is not a variable we can change. ()\n",
    "\n",
    "Therefore defining: Profit = Revenue - Costs \n",
    "\n",
    "is only dependant on Costs. That means that the solutions to maximize(Profit) are equivalent to the ones that minimize(Costs)"
   ]
  },
  {
   "cell_type": "code",
   "execution_count": null,
   "id": "500784f0",
   "metadata": {},
   "outputs": [],
   "source": [
    "revenue = 0\n",
    "for w in weeks:\n",
    "    for p in products:\n",
    "        for st in states:\n",
    "            demandaThis = giveDemandOfProduct(p, st, w)\n",
    "            priceThis = givePriceOfProduct(p, st, w)\n",
    "            s = giveSellerOfProduct(p)\n",
    "            markupThis = giveMarkUpOfSeller(s)\n",
    "            revenue = revenue + (markupThis/100) * priceThis * demandaThis"
   ]
  },
  {
   "cell_type": "code",
   "execution_count": null,
   "id": "25c958ec",
   "metadata": {},
   "outputs": [],
   "source": [
    "print(revenue)"
   ]
  },
  {
   "cell_type": "code",
   "execution_count": null,
   "id": "a2c252a3",
   "metadata": {},
   "outputs": [],
   "source": [
    "Profit = revenue - TotalCosts"
   ]
  },
  {
   "cell_type": "code",
   "execution_count": null,
   "id": "e281d81c",
   "metadata": {},
   "outputs": [],
   "source": [
    "mdl.maximize(Profit)"
   ]
  },
  {
   "cell_type": "markdown",
   "id": "c63821bb",
   "metadata": {},
   "source": [
    "### Stock restrictions"
   ]
  },
  {
   "cell_type": "markdown",
   "id": "1cc21ef3",
   "metadata": {},
   "source": [
    "We set the initial stock"
   ]
  },
  {
   "cell_type": "code",
   "execution_count": null,
   "id": "a602f485",
   "metadata": {},
   "outputs": [],
   "source": [
    "for fc in fcenters:\n",
    "    for p in products:\n",
    "        mdl.add_constraint_(stockAtFC[fc, 1, p] == giveInitialStock(p, fc)) #On day 1 we have the initial stock"
   ]
  },
  {
   "cell_type": "markdown",
   "id": "7b185461",
   "metadata": {},
   "source": [
    "The stock at a given day is the stock the stock of yesterday + stock arrived - the stock that departed.\n",
    "The stock can arrive or departure either from sellers or other fullfilment centers."
   ]
  },
  {
   "cell_type": "code",
   "execution_count": null,
   "id": "7cb75f05",
   "metadata": {},
   "outputs": [],
   "source": [
    "for d in days:\n",
    "    if(d!=1):\n",
    "        for fc1 in fcenters:\n",
    "            for p in products:\n",
    "                c = giveCategoryOfProduct(p)\n",
    "                s = giveSellerOfProduct(p)\n",
    "                arrivals = 0\n",
    "                departures = 0\n",
    "                for fc2 in fcenters:\n",
    "                    if(fc1!=fc2):\n",
    "                        potentialTimeArrival = giveTimeOfTransfer(fc2, fc1, c)\n",
    "                        dprev = d - potentialTimeArrival\n",
    "                        if(dprev>=1):\n",
    "                            arrivals = arrivals + transferBetweenFCs[fc2,fc1,dprev,p]\n",
    "                        departures = departures + transferBetweenFCs[fc1,fc2,d,p] \n",
    "                \n",
    "                potentialTimeInbound = giveTimeOfInbound(s,c,fc1)\n",
    "                dprev2 = d - potentialTimeInbound\n",
    "                if(dprev2>=1):\n",
    "                    arrivals = arrivals + amountInboundAtFCProd[fc1,d,p]\n",
    "                for st in states:\n",
    "                    departures = departures + deliveryToStateFromFC[fc1, st, d, p]\n",
    "                mdl.add_constraint_(stockAtFC[fc1, d, p] == stockAtFC[fc1, d-1, p] + arrivals - departures)"
   ]
  },
  {
   "cell_type": "markdown",
   "id": "9fca6996",
   "metadata": {},
   "source": [
    "Note that as we dont count as in store while on transfer between fulffilment centers (no storage cost while in transit) it is possible to sometimes be cheaper to make a round trip beetwen fulffilment centers than to keep them in place"
   ]
  },
  {
   "cell_type": "markdown",
   "id": "686d33bc",
   "metadata": {},
   "source": [
    "Setting the minimum stock that must be in storage. We assume daily demand as an average across all weeks and across all states, divided by all fulfillment centers. so its\n",
    "\n",
    "(sum of all demands from all states and all weeks ) divided by \n",
    "(number of weeks * number of states * number of fulfillment centers )\n",
    "\n",
    "Also the restriction only holds when there was already a chance to take an inbound shipment, if we are still on the first few days when we have limited stock and we dont yet have safety stock the solution is still feasible."
   ]
  },
  {
   "cell_type": "code",
   "execution_count": null,
   "id": "98e647a6",
   "metadata": {},
   "outputs": [],
   "source": [
    "for fc in fcenters:\n",
    "    for p in products:\n",
    "        s = giveSellerOfProduct(p)\n",
    "        c = giveCategoryOfProduct(p)\n",
    "        for d in days:\n",
    "            tempArrival = giveTimeOfInbound(s,c,fc)\n",
    "            if(d>tempArrival & tempArrival!=0):\n",
    "                minDays = giveSafetyStock(p,fc)\n",
    "                demThis = giveAverageDemandPerDay(p)\n",
    "                mdl.add_constraint_(minDays*demThis <= stockAtFC[fc, d, p])"
   ]
  },
  {
   "cell_type": "markdown",
   "id": "0a35b8b7",
   "metadata": {},
   "source": [
    "### Transfers restrictions"
   ]
  },
  {
   "cell_type": "markdown",
   "id": "77017291",
   "metadata": {},
   "source": [
    "Obviously there is no auto-transfering to the same fullfilment center "
   ]
  },
  {
   "cell_type": "code",
   "execution_count": null,
   "id": "d54b9e01",
   "metadata": {},
   "outputs": [],
   "source": [
    "for fc in fcenters:\n",
    "    for d in days:\n",
    "        for p in products:\n",
    "            mdl.add_constraint_(transferBetweenFCs[fc,fc,d,p]==0)"
   ]
  },
  {
   "cell_type": "markdown",
   "id": "be89e4ca",
   "metadata": {},
   "source": [
    "Can't transfer more than what you currently have"
   ]
  },
  {
   "cell_type": "code",
   "execution_count": null,
   "id": "90c9c0ae",
   "metadata": {},
   "outputs": [],
   "source": [
    "for fc1 in fcenters:\n",
    "    for fc2 in fcenters:\n",
    "        for d in days:\n",
    "            for p in products:\n",
    "                mdl.add_constraint_(transferBetweenFCs[fc1,fc2,d,p]<=stockAtFC[fc1, d, p])"
   ]
  },
  {
   "cell_type": "markdown",
   "id": "f4af2599",
   "metadata": {},
   "source": [
    "### Demand restrictions"
   ]
  },
  {
   "cell_type": "markdown",
   "id": "2dee98d3",
   "metadata": {},
   "source": [
    "Each week, the sum of all the deliveries of those days of the week must be equal to the demand at a given state."
   ]
  },
  {
   "cell_type": "code",
   "execution_count": null,
   "id": "eaa038d6",
   "metadata": {},
   "outputs": [],
   "source": [
    "for st in states:\n",
    "    for p in products:\n",
    "        for fc in fcenters:\n",
    "            for w in weeks:\n",
    "                delivered = 0\n",
    "                for d in days:\n",
    "                    w2 = giveWeekOfDay(d)\n",
    "                    if(w2==w):\n",
    "                        delivered = delivered + deliveryToStateFromFC[fc,st,d,p]\n",
    "                dem = giveDemandOfProduct(p,st,w)\n",
    "                mdl.add_constraint_(dem==delivered)"
   ]
  },
  {
   "cell_type": "markdown",
   "id": "c1b0af04",
   "metadata": {},
   "source": [
    "### Solution"
   ]
  },
  {
   "cell_type": "code",
   "execution_count": null,
   "id": "1f2f91a9",
   "metadata": {},
   "outputs": [],
   "source": [
    "msol = mdl.solve()"
   ]
  },
  {
   "cell_type": "code",
   "execution_count": null,
   "id": "cb4def98",
   "metadata": {},
   "outputs": [],
   "source": [
    "msol.get_value(Profit)"
   ]
  },
  {
   "cell_type": "code",
   "execution_count": null,
   "id": "d244bafb",
   "metadata": {},
   "outputs": [],
   "source": [
    "msol.get_value(TotalCosts)"
   ]
  },
  {
   "cell_type": "code",
   "execution_count": null,
   "id": "5cf1b9c0",
   "metadata": {},
   "outputs": [],
   "source": [
    "# Costo permitiendo autoTransferencias\n",
    "#718288.9800000015\n"
   ]
  },
  {
   "cell_type": "code",
   "execution_count": null,
   "id": "b734caff",
   "metadata": {},
   "outputs": [],
   "source": [
    "msol.get_value(TransfersCosts)"
   ]
  },
  {
   "cell_type": "code",
   "execution_count": null,
   "id": "28a2fbdf",
   "metadata": {},
   "outputs": [],
   "source": [
    "msol.get_value(StorageCost)"
   ]
  },
  {
   "cell_type": "code",
   "execution_count": null,
   "id": "64fc321e",
   "metadata": {},
   "outputs": [],
   "source": [
    "msol.get_value(InboundCosts)"
   ]
  },
  {
   "cell_type": "code",
   "execution_count": null,
   "id": "f605d87c",
   "metadata": {},
   "outputs": [],
   "source": [
    "msol.get_value(LastMileCosts)"
   ]
  },
  {
   "cell_type": "code",
   "execution_count": null,
   "id": "0ec42404",
   "metadata": {},
   "outputs": [],
   "source": [
    "#a)"
   ]
  },
  {
   "cell_type": "code",
   "execution_count": null,
   "id": "8a4290c7",
   "metadata": {},
   "outputs": [],
   "source": [
    "for d in days:\n",
    "    print()\n",
    "    print()\n",
    "    print()\n",
    "    print(\"Day \" + str(d) +\" transfers are: \")\n",
    "    for p in products:\n",
    "        for fc1 in fcenters:\n",
    "            for fc2 in fcenters:\n",
    "                val = msol.get_value(transferBetweenFCs[fc1,fc2,d,p])\n",
    "                if(val>0.5):\n",
    "                    print(\"Transfered \"+ str(int(round(val))) +\" of product \"+str(p)+ \" from  \" + str(fc1) + \" to  \" + str(fc2))\n",
    "            "
   ]
  }
 ],
 "metadata": {
  "kernelspec": {
   "display_name": "Python 3 (ipykernel)",
   "language": "python",
   "name": "python3"
  },
  "language_info": {
   "codemirror_mode": {
    "name": "ipython",
    "version": 3
   },
   "file_extension": ".py",
   "mimetype": "text/x-python",
   "name": "python",
   "nbconvert_exporter": "python",
   "pygments_lexer": "ipython3",
   "version": "3.9.13"
  }
 },
 "nbformat": 4,
 "nbformat_minor": 5
}
