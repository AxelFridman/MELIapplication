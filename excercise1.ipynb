{
 "cells": [
  {
   "cell_type": "markdown",
   "id": "fdbb7de6",
   "metadata": {},
   "source": [
    "### Data preparation"
   ]
  },
  {
   "cell_type": "markdown",
   "id": "f6656e18",
   "metadata": {},
   "source": [
    "Importing the libraries we will use to solve the linear programming challenge"
   ]
  },
  {
   "cell_type": "code",
   "execution_count": 43,
   "id": "2b0bd73e",
   "metadata": {},
   "outputs": [],
   "source": [
    "import numpy as np\n",
    "import math\n",
    "import pandas as pd\n",
    "import setup\n",
    "from docplex.mp.model import Model"
   ]
  },
  {
   "cell_type": "markdown",
   "id": "6fd045d0",
   "metadata": {},
   "source": [
    "Reading the xslx files with all the data of the problem"
   ]
  },
  {
   "cell_type": "code",
   "execution_count": 2,
   "id": "1461026c",
   "metadata": {},
   "outputs": [],
   "source": [
    "dfdemand = pd.read_excel('data_or_test.xlsx', sheet_name='Demand')\n",
    "dfMarkup = pd.read_excel('data_or_test.xlsx', sheet_name='Markup')\n",
    "dfLastmile = pd.read_excel('data_or_test.xlsx', sheet_name='Last Mile')\n",
    "dfStock = pd.read_excel('data_or_test.xlsx', sheet_name='Stock')\n",
    "dfIniStock = pd.read_excel('data_or_test.xlsx', sheet_name='Initial Stock')\n",
    "dfTransfers = pd.read_excel('data_or_test.xlsx', sheet_name='Transfers')\n",
    "dfInbound = pd.read_excel('data_or_test.xlsx', sheet_name='Inbound')\n",
    "dfProduct = pd.read_excel('data_or_test.xlsx', sheet_name='Product')"
   ]
  },
  {
   "cell_type": "markdown",
   "id": "050400d1",
   "metadata": {},
   "source": [
    "Visualizing the data as a dataframe and checking if it's in the correct format "
   ]
  },
  {
   "cell_type": "code",
   "execution_count": 25,
   "id": "9fdac4d9",
   "metadata": {},
   "outputs": [
    {
     "data": {
      "text/html": [
       "<div>\n",
       "<style scoped>\n",
       "    .dataframe tbody tr th:only-of-type {\n",
       "        vertical-align: middle;\n",
       "    }\n",
       "\n",
       "    .dataframe tbody tr th {\n",
       "        vertical-align: top;\n",
       "    }\n",
       "\n",
       "    .dataframe thead th {\n",
       "        text-align: right;\n",
       "    }\n",
       "</style>\n",
       "<table border=\"1\" class=\"dataframe\">\n",
       "  <thead>\n",
       "    <tr style=\"text-align: right;\">\n",
       "      <th></th>\n",
       "      <th>FC</th>\n",
       "      <th>FC.1</th>\n",
       "      <th>Category</th>\n",
       "      <th>Time (days)</th>\n",
       "      <th>Cost (per unit)</th>\n",
       "    </tr>\n",
       "  </thead>\n",
       "  <tbody>\n",
       "    <tr>\n",
       "      <th>0</th>\n",
       "      <td>FC1</td>\n",
       "      <td>FC2</td>\n",
       "      <td>C1</td>\n",
       "      <td>2</td>\n",
       "      <td>3.29</td>\n",
       "    </tr>\n",
       "    <tr>\n",
       "      <th>1</th>\n",
       "      <td>FC1</td>\n",
       "      <td>FC2</td>\n",
       "      <td>C2</td>\n",
       "      <td>0</td>\n",
       "      <td>1.60</td>\n",
       "    </tr>\n",
       "    <tr>\n",
       "      <th>2</th>\n",
       "      <td>FC1</td>\n",
       "      <td>FC2</td>\n",
       "      <td>C3</td>\n",
       "      <td>3</td>\n",
       "      <td>5.25</td>\n",
       "    </tr>\n",
       "    <tr>\n",
       "      <th>3</th>\n",
       "      <td>FC1</td>\n",
       "      <td>FC2</td>\n",
       "      <td>C4</td>\n",
       "      <td>3</td>\n",
       "      <td>8.47</td>\n",
       "    </tr>\n",
       "    <tr>\n",
       "      <th>4</th>\n",
       "      <td>FC1</td>\n",
       "      <td>FC2</td>\n",
       "      <td>C5</td>\n",
       "      <td>0</td>\n",
       "      <td>7.95</td>\n",
       "    </tr>\n",
       "  </tbody>\n",
       "</table>\n",
       "</div>"
      ],
      "text/plain": [
       "    FC FC.1 Category  Time (days)  Cost (per unit)\n",
       "0  FC1  FC2       C1            2             3.29\n",
       "1  FC1  FC2       C2            0             1.60\n",
       "2  FC1  FC2       C3            3             5.25\n",
       "3  FC1  FC2       C4            3             8.47\n",
       "4  FC1  FC2       C5            0             7.95"
      ]
     },
     "execution_count": 25,
     "metadata": {},
     "output_type": "execute_result"
    }
   ],
   "source": [
    "dfTransfers.head()"
   ]
  },
  {
   "cell_type": "markdown",
   "id": "413637b6",
   "metadata": {},
   "source": [
    "Defining the list of values in which our variables will span. "
   ]
  },
  {
   "cell_type": "code",
   "execution_count": 4,
   "id": "45953db7",
   "metadata": {},
   "outputs": [
    {
     "data": {
      "text/plain": [
       "['C1', 'C2', 'C3', 'C4', 'C5']"
      ]
     },
     "execution_count": 4,
     "metadata": {},
     "output_type": "execute_result"
    }
   ],
   "source": [
    "list((dfTransfers[\"Category\"]).unique())"
   ]
  },
  {
   "cell_type": "code",
   "execution_count": 50,
   "id": "49bd67e0",
   "metadata": {},
   "outputs": [],
   "source": [
    "days = list(range(1,29 ))\n",
    "fcenters = list((dfTransfers[\"FC\"]).unique())\n",
    "sellers = list((dfdemand[\"Seller\"]).unique())\n",
    "states = list((dfdemand[\"State\"]).unique())\n",
    "products = list((dfdemand[\"Product\"]).unique())\n",
    "categories = list((dfTransfers[\"Category\"]).unique())"
   ]
  },
  {
   "cell_type": "markdown",
   "id": "5f086156",
   "metadata": {},
   "source": [
    "Example:"
   ]
  },
  {
   "cell_type": "code",
   "execution_count": 6,
   "id": "6d6622ac",
   "metadata": {},
   "outputs": [
    {
     "name": "stdout",
     "output_type": "stream",
     "text": [
      "['ST1', 'ST2', 'ST3', 'ST4', 'ST5', 'ST6', 'ST7', 'ST8', 'ST9', 'ST10']\n"
     ]
    }
   ],
   "source": [
    "print(states)"
   ]
  },
  {
   "cell_type": "markdown",
   "id": "bb4c6fd5",
   "metadata": {},
   "source": [
    "# The mathematical model"
   ]
  },
  {
   "cell_type": "markdown",
   "id": "0a3a7a06",
   "metadata": {},
   "source": [
    "### Variables"
   ]
  },
  {
   "cell_type": "markdown",
   "id": "d6ee6c46",
   "metadata": {},
   "source": [
    "We define the CPLEX model we will be using"
   ]
  },
  {
   "cell_type": "code",
   "execution_count": 7,
   "id": "1e36623e",
   "metadata": {},
   "outputs": [],
   "source": [
    "mdl = Model(name=\"modelEcoMole\")"
   ]
  },
  {
   "cell_type": "markdown",
   "id": "f2d0de14",
   "metadata": {},
   "source": [
    " When creating variables, we will use the following type format:\n",
    " B,I,C,N,S or type short names (e.g.: binary, integer, continuous, semicontinuous, semiinteger)"
   ]
  },
  {
   "cell_type": "markdown",
   "id": "faf6bc40",
   "metadata": {},
   "source": [
    "stockAtFC represents the amount of stock that a given fullfilment center has at a given day of a given product. Therefore it must be any non negative integer."
   ]
  },
  {
   "cell_type": "code",
   "execution_count": 8,
   "id": "9dedea62",
   "metadata": {},
   "outputs": [
    {
     "data": {
      "text/plain": [
       "25200"
      ]
     },
     "execution_count": 8,
     "metadata": {},
     "output_type": "execute_result"
    }
   ],
   "source": [
    "stockAtFC = mdl.var_hypercube(vartype_spec='I', seq_of_keys=[fcenters, days, products])\n",
    "len(stockAtFC)"
   ]
  },
  {
   "cell_type": "markdown",
   "id": "37e2b479",
   "metadata": {},
   "source": [
    "transferBetweenFCs represents the amount of products that a given fullfilment center transfers to another fullfilment center at a given day of a given product. Therefore it must be any non negative integer."
   ]
  },
  {
   "cell_type": "code",
   "execution_count": null,
   "id": "42659370",
   "metadata": {},
   "outputs": [],
   "source": []
  },
  {
   "cell_type": "code",
   "execution_count": 9,
   "id": "b8fbce69",
   "metadata": {},
   "outputs": [
    {
     "data": {
      "text/plain": [
       "75600"
      ]
     },
     "execution_count": 9,
     "metadata": {},
     "output_type": "execute_result"
    }
   ],
   "source": [
    "transferBetweenFCs = mdl.var_hypercube(vartype_spec='I', seq_of_keys=[fcenters, fcenters, days, products])\n",
    "len(transferBetweenFCs)"
   ]
  },
  {
   "cell_type": "code",
   "execution_count": 10,
   "id": "0b0fb890",
   "metadata": {},
   "outputs": [
    {
     "data": {
      "text/plain": [
       "252000"
      ]
     },
     "execution_count": 10,
     "metadata": {},
     "output_type": "execute_result"
    }
   ],
   "source": [
    "deliveryToStateFromFC = mdl.var_hypercube(vartype_spec='I', seq_of_keys=[fcenters, states, days, products])\n",
    "len(deliveryToStateFromFC)"
   ]
  },
  {
   "cell_type": "code",
   "execution_count": 11,
   "id": "e82fa06c",
   "metadata": {},
   "outputs": [
    {
     "data": {
      "text/plain": [
       "25200"
      ]
     },
     "execution_count": 11,
     "metadata": {},
     "output_type": "execute_result"
    }
   ],
   "source": [
    "amountInboundAtFCProd = mdl.var_hypercube(vartype_spec='I', seq_of_keys=[fcenters, days, products])\n",
    "len(amountInboundAtFCProd)"
   ]
  },
  {
   "cell_type": "markdown",
   "id": "d69c20fd",
   "metadata": {},
   "source": [
    "### Auxiliar functions"
   ]
  },
  {
   "cell_type": "code",
   "execution_count": 12,
   "id": "1ce3c212",
   "metadata": {},
   "outputs": [],
   "source": [
    "def giveCategoryOfProduct(p):\n",
    "    return(list(dfProduct[dfProduct[\"Product\"] == p][\"Category\"])[0])"
   ]
  },
  {
   "cell_type": "code",
   "execution_count": 13,
   "id": "5b5e5d6b",
   "metadata": {},
   "outputs": [
    {
     "data": {
      "text/plain": [
       "'C5'"
      ]
     },
     "execution_count": 13,
     "metadata": {},
     "output_type": "execute_result"
    }
   ],
   "source": [
    "giveCategoryOfProduct(\"P2\")"
   ]
  },
  {
   "cell_type": "code",
   "execution_count": 14,
   "id": "55d6e142",
   "metadata": {},
   "outputs": [],
   "source": [
    "def giveSellerOfProduct(p):\n",
    "    return(list(dfIniStock[dfIniStock[\"Product\"] == p][\"Seller\"])[0])"
   ]
  },
  {
   "cell_type": "code",
   "execution_count": 15,
   "id": "964c0cef",
   "metadata": {},
   "outputs": [
    {
     "data": {
      "text/plain": [
       "'S24'"
      ]
     },
     "execution_count": 15,
     "metadata": {},
     "output_type": "execute_result"
    }
   ],
   "source": [
    "giveSellerOfProduct(\"P124\")"
   ]
  },
  {
   "cell_type": "code",
   "execution_count": 75,
   "id": "5a556884",
   "metadata": {},
   "outputs": [],
   "source": [
    "def giveDemandOfProduct(p, sta, w):\n",
    "    return(list(dfdemand[(dfdemand[\"Product\"] == p)&(dfdemand[\"State\"] == sta)&(dfdemand[\"Week\"] == w)][\"Demand (unit)\"])[0])"
   ]
  },
  {
   "cell_type": "code",
   "execution_count": 76,
   "id": "f821211f",
   "metadata": {},
   "outputs": [
    {
     "data": {
      "text/plain": [
       "397"
      ]
     },
     "execution_count": 76,
     "metadata": {},
     "output_type": "execute_result"
    }
   ],
   "source": [
    "giveDemandOfProduct(\"P3\", \"ST1\", \"W3\")"
   ]
  },
  {
   "cell_type": "code",
   "execution_count": 77,
   "id": "87d0bc2f",
   "metadata": {},
   "outputs": [],
   "source": [
    "def giveLastMileCostOfProduct(p, sta, fc):\n",
    "    c = giveCategoryOfProduct(p)\n",
    "    return(list(dfLastmile[(dfLastmile[\"Category\"] == c)&(dfLastmile[\"State\"] == sta)&(dfLastmile[\"FC\"] == fc)][\"Cost (per unit)\"])[0])"
   ]
  },
  {
   "cell_type": "code",
   "execution_count": 78,
   "id": "ec0fc4b0",
   "metadata": {},
   "outputs": [
    {
     "data": {
      "text/plain": [
       "34.0"
      ]
     },
     "execution_count": 78,
     "metadata": {},
     "output_type": "execute_result"
    }
   ],
   "source": [
    "giveLastMileCostOfProduct(\"P2\", \"ST4\", \"FC3\")"
   ]
  },
  {
   "cell_type": "code",
   "execution_count": 70,
   "id": "cebfbd2a",
   "metadata": {},
   "outputs": [],
   "source": [
    "def giveWeekOfDay(d):\n",
    "    w = math.ceil((d/28 * 4))\n",
    "    weekAsString = \"W\"+str(w)\n",
    "    return(weekAsString)"
   ]
  },
  {
   "cell_type": "code",
   "execution_count": 71,
   "id": "ca999e96",
   "metadata": {},
   "outputs": [
    {
     "data": {
      "text/plain": [
       "'W2'"
      ]
     },
     "execution_count": 71,
     "metadata": {},
     "output_type": "execute_result"
    }
   ],
   "source": [
    "giveWeekOfDay(11)"
   ]
  },
  {
   "cell_type": "code",
   "execution_count": 16,
   "id": "15943774",
   "metadata": {},
   "outputs": [],
   "source": [
    "def giveCostOfInbound(s,c,fc):\n",
    "    return(list(dfInbound[(dfInbound[\"Seller\"] == s) & (dfInbound[\"Category\"] == c) & (dfInbound[\"FC\"] == fc) ][\"Cost (per unit)\"])[0])"
   ]
  },
  {
   "cell_type": "code",
   "execution_count": 17,
   "id": "c82ffc0e",
   "metadata": {},
   "outputs": [
    {
     "data": {
      "text/plain": [
       "30.25"
      ]
     },
     "execution_count": 17,
     "metadata": {},
     "output_type": "execute_result"
    }
   ],
   "source": [
    "giveCostOfInbound(\"S2\",\"C3\",\"FC2\")"
   ]
  },
  {
   "cell_type": "code",
   "execution_count": 18,
   "id": "bbb66ff4",
   "metadata": {},
   "outputs": [],
   "source": [
    "def giveCostOfStorage(p):\n",
    "    return(list(dfStock[(dfStock[\"Product\"] == p)][\"Cost (per day and unit)\"])[0])"
   ]
  },
  {
   "cell_type": "code",
   "execution_count": 19,
   "id": "d815d59f",
   "metadata": {},
   "outputs": [
    {
     "data": {
      "text/plain": [
       "5.99"
      ]
     },
     "execution_count": 19,
     "metadata": {},
     "output_type": "execute_result"
    }
   ],
   "source": [
    "giveCostOfStorage(\"P5\")"
   ]
  },
  {
   "cell_type": "code",
   "execution_count": 26,
   "id": "8fa61d47",
   "metadata": {},
   "outputs": [],
   "source": [
    "def giveCostOfTransfer(fc1, fc2, c):\n",
    "    return(list(dfTransfers[(dfTransfers[\"FC\"] == fc1)&(dfTransfers[\"FC.1\"] == fc2) &(dfTransfers[\"Category\"] == c) ][\"Cost (per unit)\"])[0])"
   ]
  },
  {
   "cell_type": "code",
   "execution_count": 28,
   "id": "325a17e5",
   "metadata": {},
   "outputs": [
    {
     "data": {
      "text/plain": [
       "10.37"
      ]
     },
     "execution_count": 28,
     "metadata": {},
     "output_type": "execute_result"
    }
   ],
   "source": [
    "giveCostOfTransfer(\"FC3\", \"FC1\", \"C4\")"
   ]
  },
  {
   "cell_type": "markdown",
   "id": "81288393",
   "metadata": {},
   "source": [
    "### Restrictions"
   ]
  },
  {
   "cell_type": "code",
   "execution_count": 20,
   "id": "6504b4a4",
   "metadata": {},
   "outputs": [
    {
     "name": "stdout",
     "output_type": "stream",
     "text": [
      "0\n",
      "1\n",
      "2\n",
      "3\n",
      "4\n",
      "5\n",
      "6\n",
      "7\n",
      "8\n",
      "9\n",
      "10\n",
      "11\n",
      "12\n",
      "13\n",
      "14\n",
      "15\n",
      "16\n",
      "17\n",
      "18\n",
      "19\n",
      "20\n",
      "21\n",
      "22\n",
      "23\n",
      "24\n",
      "25\n",
      "26\n",
      "27\n"
     ]
    }
   ],
   "source": [
    "InboundCosts = 0\n",
    "for d in days:\n",
    "    #print(d)\n",
    "    for fc in fcenters:\n",
    "        for p in products:\n",
    "            c = giveCategoryOfProduct(p)\n",
    "            s = giveSellerOfProduct(p)\n",
    "            costThisCSFC = giveCostOfInbound(s,c,fc)\n",
    "            InboundCosts = InboundCosts + costThisCSFC * amountInboundAtFCProd[fc,d,p]"
   ]
  },
  {
   "cell_type": "code",
   "execution_count": 21,
   "id": "3931d54f",
   "metadata": {},
   "outputs": [
    {
     "name": "stdout",
     "output_type": "stream",
     "text": [
      "0\n",
      "1\n",
      "2\n",
      "3\n",
      "4\n",
      "5\n",
      "6\n",
      "7\n",
      "8\n",
      "9\n",
      "10\n",
      "11\n",
      "12\n",
      "13\n",
      "14\n",
      "15\n",
      "16\n",
      "17\n",
      "18\n",
      "19\n",
      "20\n",
      "21\n",
      "22\n",
      "23\n",
      "24\n",
      "25\n",
      "26\n",
      "27\n"
     ]
    }
   ],
   "source": [
    "StorageCost = 0\n",
    "for d in days:\n",
    "    #print(d)\n",
    "    for fc in fcenters:\n",
    "        for p in products:\n",
    "            costThisP = giveCostOfStorage(p)\n",
    "            StorageCost = StorageCost + costThisP * stockAtFC[fc,d,p]"
   ]
  },
  {
   "cell_type": "code",
   "execution_count": 29,
   "id": "b7ecd9fc",
   "metadata": {},
   "outputs": [
    {
     "name": "stdout",
     "output_type": "stream",
     "text": [
      "0\n",
      "1\n",
      "2\n",
      "3\n",
      "4\n",
      "5\n",
      "6\n",
      "7\n",
      "8\n",
      "9\n",
      "10\n",
      "11\n",
      "12\n",
      "13\n",
      "14\n",
      "15\n",
      "16\n",
      "17\n",
      "18\n",
      "19\n",
      "20\n",
      "21\n",
      "22\n",
      "23\n",
      "24\n",
      "25\n",
      "26\n",
      "27\n"
     ]
    }
   ],
   "source": [
    "TransfersCosts = 0\n",
    "for d in days:\n",
    "    #print(d)\n",
    "    for fc1 in fcenters:\n",
    "        for fc2 in fcenters:\n",
    "            if(fc1 != fc2):\n",
    "                for p in products:\n",
    "                    c = giveCategoryOfProduct(p)\n",
    "                    costThisTran = giveCostOfTransfer(fc1, fc2, c)\n",
    "                    TransfersCosts = TransfersCosts + costThisTran * transferBetweenFCs[fc1,fc2,d,p]"
   ]
  },
  {
   "cell_type": "markdown",
   "id": "8cc2ab5c",
   "metadata": {},
   "source": [
    "Los costos de last mile no usan demanda porque la restriccion de la demanda esta en otro lado"
   ]
  },
  {
   "cell_type": "code",
   "execution_count": null,
   "id": "7bfb7b31",
   "metadata": {},
   "outputs": [
    {
     "name": "stdout",
     "output_type": "stream",
     "text": [
      "1\n",
      "2\n",
      "3\n",
      "4\n",
      "5\n",
      "6\n"
     ]
    }
   ],
   "source": [
    "LastMileCosts = 0\n",
    "for d in days:\n",
    "    #print(d)\n",
    "    for fc in fcenters:\n",
    "        for st in states:\n",
    "            for p in products:\n",
    "                costThisLastmile = giveLastMileCostOfProduct(p, st, fc)\n",
    "                TransfersCosts = TransfersCosts + costThisLastmile * deliveryToStateFromFC[fc,st,d,p]"
   ]
  },
  {
   "cell_type": "code",
   "execution_count": 22,
   "id": "2ee2e0e4",
   "metadata": {},
   "outputs": [
    {
     "ename": "NameError",
     "evalue": "name 'TransfersCosts' is not defined",
     "output_type": "error",
     "traceback": [
      "\u001b[1;31m---------------------------------------------------------------------------\u001b[0m",
      "\u001b[1;31mNameError\u001b[0m                                 Traceback (most recent call last)",
      "\u001b[1;32m~\\AppData\\Local\\Temp\\ipykernel_15572\\4056006453.py\u001b[0m in \u001b[0;36m<module>\u001b[1;34m\u001b[0m\n\u001b[1;32m----> 1\u001b[1;33m \u001b[0mTotalCosts\u001b[0m \u001b[1;33m=\u001b[0m \u001b[0mInboundCosts\u001b[0m \u001b[1;33m+\u001b[0m \u001b[0mStorageCost\u001b[0m \u001b[1;33m+\u001b[0m \u001b[0mTransfersCosts\u001b[0m \u001b[1;33m+\u001b[0m \u001b[0mLastMileCosts\u001b[0m\u001b[1;33m\u001b[0m\u001b[1;33m\u001b[0m\u001b[0m\n\u001b[0m",
      "\u001b[1;31mNameError\u001b[0m: name 'TransfersCosts' is not defined"
     ]
    }
   ],
   "source": [
    "TotalCosts = InboundCosts + StorageCost + TransfersCosts + LastMileCosts"
   ]
  },
  {
   "cell_type": "code",
   "execution_count": null,
   "id": "1abdd541",
   "metadata": {},
   "outputs": [],
   "source": [
    "msol = mdl.solve()"
   ]
  },
  {
   "cell_type": "code",
   "execution_count": null,
   "id": "84ad0235",
   "metadata": {},
   "outputs": [],
   "source": [
    "msol.get_value(hc[1,3,\"a\",2])"
   ]
  }
 ],
 "metadata": {
  "kernelspec": {
   "display_name": "Python 3 (ipykernel)",
   "language": "python",
   "name": "python3"
  },
  "language_info": {
   "codemirror_mode": {
    "name": "ipython",
    "version": 3
   },
   "file_extension": ".py",
   "mimetype": "text/x-python",
   "name": "python",
   "nbconvert_exporter": "python",
   "pygments_lexer": "ipython3",
   "version": "3.9.13"
  }
 },
 "nbformat": 4,
 "nbformat_minor": 5
}
