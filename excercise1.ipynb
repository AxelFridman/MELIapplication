{
 "cells": [
  {
   "cell_type": "markdown",
   "id": "f60b9de1",
   "metadata": {},
   "source": [
    "# Data preparation"
   ]
  },
  {
   "cell_type": "markdown",
   "id": "2844a866",
   "metadata": {},
   "source": [
    "Importing the libraries we will use to solve the linear programming challenge"
   ]
  },
  {
   "cell_type": "code",
   "execution_count": 1,
   "id": "78da399c",
   "metadata": {},
   "outputs": [],
   "source": [
    "import numpy as np\n",
    "import pandas as pd\n",
    "import setup\n",
    "from docplex.mp.model import Model"
   ]
  },
  {
   "cell_type": "markdown",
   "id": "e5198104",
   "metadata": {},
   "source": [
    "Reading the xslx files with all the data of the problem"
   ]
  },
  {
   "cell_type": "code",
   "execution_count": 2,
   "id": "5763f395",
   "metadata": {},
   "outputs": [],
   "source": [
    "dfdemand = pd.read_excel('data_or_test.xlsx', sheet_name='Demand')\n",
    "dfMarkup = pd.read_excel('data_or_test.xlsx', sheet_name='Markup')\n",
    "dfLastmile = pd.read_excel('data_or_test.xlsx', sheet_name='Last Mile')\n",
    "dfStock = pd.read_excel('data_or_test.xlsx', sheet_name='Stock')\n",
    "dfIniStock = pd.read_excel('data_or_test.xlsx', sheet_name='Initial Stock')\n",
    "dfTransfers = pd.read_excel('data_or_test.xlsx', sheet_name='Transfers')\n",
    "dfInbound = pd.read_excel('data_or_test.xlsx', sheet_name='Inbound')\n",
    "dfProduct = pd.read_excel('data_or_test.xlsx', sheet_name='Product')"
   ]
  },
  {
   "cell_type": "markdown",
   "id": "9e198cfd",
   "metadata": {},
   "source": [
    "Visualizing the data as a dataframe and checking if it's in the correct format "
   ]
  },
  {
   "cell_type": "code",
   "execution_count": 36,
   "id": "644bb629",
   "metadata": {},
   "outputs": [
    {
     "data": {
      "text/html": [
       "<div>\n",
       "<style scoped>\n",
       "    .dataframe tbody tr th:only-of-type {\n",
       "        vertical-align: middle;\n",
       "    }\n",
       "\n",
       "    .dataframe tbody tr th {\n",
       "        vertical-align: top;\n",
       "    }\n",
       "\n",
       "    .dataframe thead th {\n",
       "        text-align: right;\n",
       "    }\n",
       "</style>\n",
       "<table border=\"1\" class=\"dataframe\">\n",
       "  <thead>\n",
       "    <tr style=\"text-align: right;\">\n",
       "      <th></th>\n",
       "      <th>State</th>\n",
       "      <th>Seller</th>\n",
       "      <th>Product</th>\n",
       "      <th>Week</th>\n",
       "      <th>Demand (unit)</th>\n",
       "      <th>Price</th>\n",
       "    </tr>\n",
       "  </thead>\n",
       "  <tbody>\n",
       "    <tr>\n",
       "      <th>0</th>\n",
       "      <td>ST1</td>\n",
       "      <td>S1</td>\n",
       "      <td>P1</td>\n",
       "      <td>W1</td>\n",
       "      <td>668</td>\n",
       "      <td>1449.19</td>\n",
       "    </tr>\n",
       "    <tr>\n",
       "      <th>1</th>\n",
       "      <td>ST1</td>\n",
       "      <td>S1</td>\n",
       "      <td>P1</td>\n",
       "      <td>W2</td>\n",
       "      <td>887</td>\n",
       "      <td>1983.44</td>\n",
       "    </tr>\n",
       "    <tr>\n",
       "      <th>2</th>\n",
       "      <td>ST1</td>\n",
       "      <td>S1</td>\n",
       "      <td>P1</td>\n",
       "      <td>W3</td>\n",
       "      <td>499</td>\n",
       "      <td>1386.48</td>\n",
       "    </tr>\n",
       "    <tr>\n",
       "      <th>3</th>\n",
       "      <td>ST1</td>\n",
       "      <td>S1</td>\n",
       "      <td>P1</td>\n",
       "      <td>W4</td>\n",
       "      <td>281</td>\n",
       "      <td>889.35</td>\n",
       "    </tr>\n",
       "    <tr>\n",
       "      <th>4</th>\n",
       "      <td>ST1</td>\n",
       "      <td>S2</td>\n",
       "      <td>P2</td>\n",
       "      <td>W1</td>\n",
       "      <td>144</td>\n",
       "      <td>2115.55</td>\n",
       "    </tr>\n",
       "  </tbody>\n",
       "</table>\n",
       "</div>"
      ],
      "text/plain": [
       "  State Seller Product Week  Demand (unit)    Price\n",
       "0   ST1     S1      P1   W1            668  1449.19\n",
       "1   ST1     S1      P1   W2            887  1983.44\n",
       "2   ST1     S1      P1   W3            499  1386.48\n",
       "3   ST1     S1      P1   W4            281   889.35\n",
       "4   ST1     S2      P2   W1            144  2115.55"
      ]
     },
     "execution_count": 36,
     "metadata": {},
     "output_type": "execute_result"
    }
   ],
   "source": [
    "dfdemand.head()"
   ]
  },
  {
   "cell_type": "markdown",
   "id": "4d756c02",
   "metadata": {},
   "source": [
    "Defining the list of values in which our variables will span. "
   ]
  },
  {
   "cell_type": "code",
   "execution_count": 29,
   "id": "6953e9e6",
   "metadata": {},
   "outputs": [],
   "source": [
    "days = list(range(0,28 ))\n",
    "fcenters = list((dfTransfers[\"FC\"]).unique())\n",
    "sellers = list((dfdemand[\"Seller\"]).unique())\n",
    "states = list((dfdemand[\"State\"]).unique())\n",
    "products = list((dfdemand[\"Product\"]).unique())\n",
    "categorias = list((dfTransfers[\"Category\"]).unique())"
   ]
  },
  {
   "cell_type": "markdown",
   "id": "00c4cd01",
   "metadata": {},
   "source": [
    "Example:"
   ]
  },
  {
   "cell_type": "code",
   "execution_count": 37,
   "id": "c23e9ea1",
   "metadata": {},
   "outputs": [
    {
     "data": {
      "text/plain": [
       "['ST1', 'ST2', 'ST3', 'ST4', 'ST5', 'ST6', 'ST7', 'ST8', 'ST9', 'ST10']"
      ]
     },
     "execution_count": 37,
     "metadata": {},
     "output_type": "execute_result"
    }
   ],
   "source": [
    "print(states)"
   ]
  },
  {
   "cell_type": "markdown",
   "id": "b5c40ffe",
   "metadata": {},
   "source": [
    "# The mathematical model"
   ]
  },
  {
   "cell_type": "markdown",
   "id": "659c5079",
   "metadata": {},
   "source": [
    "We define the CPLEX model we will be using"
   ]
  },
  {
   "cell_type": "code",
   "execution_count": 7,
   "id": "6f7ed8b2",
   "metadata": {},
   "outputs": [],
   "source": [
    "mdl = Model(name=\"modelEcoMole\")"
   ]
  },
  {
   "cell_type": "markdown",
   "id": "df76f37a",
   "metadata": {},
   "source": [
    " When creating variables, we will use the following type format:\n",
    " B,I,C,N,S or type short names (e.g.: binary, integer, continuous, semicontinuous, semiinteger)"
   ]
  },
  {
   "cell_type": "markdown",
   "id": "c9bb91de",
   "metadata": {},
   "source": [
    "stockAtFC represents the amount of stock that a given fullfilment center has at a given day of a given product. Therefore it must be any non negative integer."
   ]
  },
  {
   "cell_type": "code",
   "execution_count": 27,
   "id": "e4cfb5cb",
   "metadata": {},
   "outputs": [
    {
     "data": {
      "text/plain": [
       "25200"
      ]
     },
     "execution_count": 27,
     "metadata": {},
     "output_type": "execute_result"
    }
   ],
   "source": [
    "stockAtFC = mdl.var_hypercube(vartype_spec='I', seq_of_keys=[fcenters, days, products])\n",
    "len(stockAtFC)"
   ]
  },
  {
   "cell_type": "markdown",
   "id": "e7de431d",
   "metadata": {},
   "source": [
    "transferBetweenFCs represents the amount of products that a given fullfilment center transfers to another fullfilment center at a given day of a given product. Therefore it must be any non negative integer."
   ]
  },
  {
   "cell_type": "code",
   "execution_count": 28,
   "id": "8986f9d1",
   "metadata": {},
   "outputs": [
    {
     "data": {
      "text/plain": [
       "75600"
      ]
     },
     "execution_count": 28,
     "metadata": {},
     "output_type": "execute_result"
    }
   ],
   "source": [
    "transferBetweenFCs = mdl.var_hypercube(vartype_spec='I', seq_of_keys=[fcenters, fcenters, days, products])\n",
    "len(transferBetweenFCs)"
   ]
  },
  {
   "cell_type": "code",
   "execution_count": 32,
   "id": "bb70c014",
   "metadata": {},
   "outputs": [
    {
     "data": {
      "text/plain": [
       "252000"
      ]
     },
     "execution_count": 32,
     "metadata": {},
     "output_type": "execute_result"
    }
   ],
   "source": [
    "deliveryToStateFromFC = mdl.var_hypercube(vartype_spec='I', seq_of_keys=[fcenters, states, days, products])\n",
    "len(deliveryToStateFromFC)"
   ]
  },
  {
   "cell_type": "code",
   "execution_count": 33,
   "id": "82a51e38",
   "metadata": {},
   "outputs": [
    {
     "data": {
      "text/plain": [
       "84"
      ]
     },
     "execution_count": 33,
     "metadata": {},
     "output_type": "execute_result"
    }
   ],
   "source": [
    "storageCostFC = mdl.var_hypercube(vartype_spec='C', seq_of_keys=[fcenters, days])\n",
    "len(storageCostFC)"
   ]
  },
  {
   "cell_type": "code",
   "execution_count": 10,
   "id": "fb4ae419",
   "metadata": {},
   "outputs": [],
   "source": [
    "msol = mdl.solve()"
   ]
  },
  {
   "cell_type": "code",
   "execution_count": 11,
   "id": "96cb0f02",
   "metadata": {},
   "outputs": [
    {
     "data": {
      "text/plain": [
       "3.0"
      ]
     },
     "execution_count": 11,
     "metadata": {},
     "output_type": "execute_result"
    }
   ],
   "source": [
    "msol.get_value(hc[1,3,\"a\",2])"
   ]
  }
 ],
 "metadata": {
  "kernelspec": {
   "display_name": "Python 3 (ipykernel)",
   "language": "python",
   "name": "python3"
  },
  "language_info": {
   "codemirror_mode": {
    "name": "ipython",
    "version": 3
   },
   "file_extension": ".py",
   "mimetype": "text/x-python",
   "name": "python",
   "nbconvert_exporter": "python",
   "pygments_lexer": "ipython3",
   "version": "3.9.13"
  }
 },
 "nbformat": 4,
 "nbformat_minor": 5
}
